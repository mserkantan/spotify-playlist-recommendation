{
  "nbformat": 4,
  "nbformat_minor": 0,
  "metadata": {
    "colab": {
      "name": "train.ipynb",
      "provenance": [],
      "collapsed_sections": [],
      "machine_shape": "hm",
      "authorship_tag": "ABX9TyPEXoX/lE0NUMQeFpD8WQV3",
      "include_colab_link": true
    },
    "kernelspec": {
      "name": "python3",
      "display_name": "Python 3"
    },
    "language_info": {
      "name": "python"
    },
    "accelerator": "GPU"
  },
  "cells": [
    {
      "cell_type": "markdown",
      "metadata": {
        "id": "view-in-github",
        "colab_type": "text"
      },
      "source": [
        "<a href=\"https://colab.research.google.com/github/mserkantan/spotify-playlist-recommendation/blob/trials/train.ipynb\" target=\"_parent\"><img src=\"https://colab.research.google.com/assets/colab-badge.svg\" alt=\"Open In Colab\"/></a>"
      ]
    },
    {
      "cell_type": "code",
      "metadata": {
        "colab": {
          "base_uri": "https://localhost:8080/"
        },
        "id": "eNaw6UIGWLzV",
        "outputId": "5ab29679-2477-4724-9b88-583bc371da11"
      },
      "source": [
        "import numpy as np\n",
        "import pandas as pd\n",
        "pd.options.mode.chained_assignment = None  # default='warn'\n",
        " \n",
        "import matplotlib.pyplot as plt\n",
        "from matplotlib import style\n",
        "import seaborn as sns\n",
        " \n",
        "import os, sys, time\n",
        "from tqdm import tqdm \n",
        "import json\n",
        " \n",
        "# sklearn libraries\n",
        "from sklearn.preprocessing import LabelEncoder, OneHotEncoder\n",
        " \n",
        "import keras\n",
        "from keras import backend as K\n",
        "from keras.models import Sequential, Model, load_model, save_model\n",
        "from keras.layers.core import Dense, Lambda, Activation\n",
        "from keras.layers import Embedding, Input, Dense, merge, Reshape, Flatten, Multiply\n",
        "from keras.optimizers import Adam\n",
        "from keras.regularizers import l2\n",
        " \n",
        "# configure\n",
        "%matplotlib inline  \n",
        "style.use('fivethirtyeight')\n",
        "sns.set(style='whitegrid',color_codes=True)\n",
        " \n",
        "from google.colab import drive\n",
        "drive.mount('/content/drive')\n",
        " \n",
        "sys.path.append('/content/drive/MyDrive/spotify-playlist-recommendation')\n",
        "from utils import get_all_songs_df, get_negative_samples, get_negative_samples_test, get_playlists_df, get_test_samples, print_top_k_acc"
      ],
      "execution_count": 2,
      "outputs": [
        {
          "output_type": "stream",
          "text": [
            "Mounted at /content/drive\n"
          ],
          "name": "stdout"
        }
      ]
    },
    {
      "cell_type": "code",
      "metadata": {
        "colab": {
          "base_uri": "https://localhost:8080/"
        },
        "id": "JCdLLooOWqEc",
        "outputId": "b135be24-e8f0-4d41-93d1-6b8e8a23863f"
      },
      "source": [
        "playlists_df = get_playlists_df(number_of_files=10)\n",
        "playlists_df\n",
        "\n",
        "# apply the threshold to playlists \n",
        "threshold_num_tracks = 50\n",
        "playlists_df = playlists_df[playlists_df.num_tracks > threshold_num_tracks]\n",
        "playlists_df\n",
        "\n",
        "# get all songs\n",
        "all_songs_df = get_all_songs_df(playlists_df)\n",
        "all_songs_df\n",
        "\n",
        "# get df that we will use in training // artist_uri and album_uri can be added\n",
        "training_df = all_songs_df[['pid', 'track_uri', 'artist_uri']]\n",
        "print(\"Dataset size before filtering the NaNs: {}\".format(len(training_df)))\n",
        "training_df = training_df[training_df[['artist_uri']].notnull().all(1)]\n",
        "print(\"Dataset size after filtering the NaNs: {}\".format(len(training_df)))"
      ],
      "execution_count": 5,
      "outputs": [
        {
          "output_type": "stream",
          "text": [
            "Dataset size before filtering the NaNs: 526065\n",
            "Dataset size after filtering the NaNs: 526065\n"
          ],
          "name": "stdout"
        }
      ]
    },
    {
      "cell_type": "code",
      "metadata": {
        "colab": {
          "base_uri": "https://localhost:8080/",
          "height": 473
        },
        "id": "GOp2zSm8j3FE",
        "outputId": "dc5ce190-14c5-4d63-b63a-3216641522ec"
      },
      "source": [
        "training_df['interaction'] = 1\n",
        "\n",
        "# unique songs in all songs\n",
        "all_unique_songs = training_df['track_uri'].unique()\n",
        "\n",
        "print(\"Although we have {} tracks in all playlists we include, there are {} unique tracks.\".format(training_df.shape[0], len(all_unique_songs)))\n",
        "\n",
        "neg_samples_df = get_negative_samples(training_df, all_unique_songs, number_of_neg_sample=20)\n",
        "\n",
        "training_df = pd.concat([training_df, neg_samples_df])\n",
        "\n",
        "training_df.sort_values(['pid', 'interaction'], ascending=[True, False], inplace=True)\n",
        "\n",
        "training_df.reset_index(drop=True, inplace=True)\n",
        "training_df"
      ],
      "execution_count": 6,
      "outputs": [
        {
          "output_type": "stream",
          "text": [
            "  0%|          | 1/4907 [00:00<10:49,  7.55it/s]"
          ],
          "name": "stderr"
        },
        {
          "output_type": "stream",
          "text": [
            "Although we have 526065 tracks in all playlists we include, there are 146399 unique tracks.\n"
          ],
          "name": "stdout"
        },
        {
          "output_type": "stream",
          "text": [
            "100%|██████████| 4907/4907 [09:19<00:00,  8.77it/s]\n"
          ],
          "name": "stderr"
        },
        {
          "output_type": "execute_result",
          "data": {
            "text/html": [
              "<div>\n",
              "<style scoped>\n",
              "    .dataframe tbody tr th:only-of-type {\n",
              "        vertical-align: middle;\n",
              "    }\n",
              "\n",
              "    .dataframe tbody tr th {\n",
              "        vertical-align: top;\n",
              "    }\n",
              "\n",
              "    .dataframe thead th {\n",
              "        text-align: right;\n",
              "    }\n",
              "</style>\n",
              "<table border=\"1\" class=\"dataframe\">\n",
              "  <thead>\n",
              "    <tr style=\"text-align: right;\">\n",
              "      <th></th>\n",
              "      <th>pid</th>\n",
              "      <th>track_uri</th>\n",
              "      <th>artist_uri</th>\n",
              "      <th>interaction</th>\n",
              "    </tr>\n",
              "  </thead>\n",
              "  <tbody>\n",
              "    <tr>\n",
              "      <th>0</th>\n",
              "      <td>0</td>\n",
              "      <td>spotify:track:0UaMYEvWZi0ZqiDOoHU3YI</td>\n",
              "      <td>spotify:artist:2wIVse2owClT7go1WT98tk</td>\n",
              "      <td>1</td>\n",
              "    </tr>\n",
              "    <tr>\n",
              "      <th>1</th>\n",
              "      <td>0</td>\n",
              "      <td>spotify:track:6I9VzXrHxO9rA9A5euc8Ak</td>\n",
              "      <td>spotify:artist:26dSoYclwsYLMAKD3tpOr4</td>\n",
              "      <td>1</td>\n",
              "    </tr>\n",
              "    <tr>\n",
              "      <th>2</th>\n",
              "      <td>0</td>\n",
              "      <td>spotify:track:0WqIKmW4BTrj3eJFmnCKMv</td>\n",
              "      <td>spotify:artist:6vWDO969PvNqNYHIOW5v0m</td>\n",
              "      <td>1</td>\n",
              "    </tr>\n",
              "    <tr>\n",
              "      <th>3</th>\n",
              "      <td>0</td>\n",
              "      <td>spotify:track:1AWQoqb9bSvzTjaLralEkT</td>\n",
              "      <td>spotify:artist:31TPClRtHm23RisEBtV3X7</td>\n",
              "      <td>1</td>\n",
              "    </tr>\n",
              "    <tr>\n",
              "      <th>4</th>\n",
              "      <td>0</td>\n",
              "      <td>spotify:track:1lzr43nnXAijIGYnCT8M8H</td>\n",
              "      <td>spotify:artist:5EvFsr3kj42KNv97ZEnqij</td>\n",
              "      <td>1</td>\n",
              "    </tr>\n",
              "    <tr>\n",
              "      <th>...</th>\n",
              "      <td>...</td>\n",
              "      <td>...</td>\n",
              "      <td>...</td>\n",
              "      <td>...</td>\n",
              "    </tr>\n",
              "    <tr>\n",
              "      <th>624200</th>\n",
              "      <td>9999</td>\n",
              "      <td>spotify:track:3cC5gUVlTjYCrufbyxkBbE</td>\n",
              "      <td>spotify:artist:4sTFGCigAQIUiEy8wSSQNF</td>\n",
              "      <td>0</td>\n",
              "    </tr>\n",
              "    <tr>\n",
              "      <th>624201</th>\n",
              "      <td>9999</td>\n",
              "      <td>spotify:track:5lmFDRUw2oc3ye51sAdIz1</td>\n",
              "      <td>spotify:artist:4sTFGCigAQIUiEy8wSSQNF</td>\n",
              "      <td>0</td>\n",
              "    </tr>\n",
              "    <tr>\n",
              "      <th>624202</th>\n",
              "      <td>9999</td>\n",
              "      <td>spotify:track:0obc9wQN13HvC8IvPAQrXd</td>\n",
              "      <td>spotify:artist:4sTFGCigAQIUiEy8wSSQNF</td>\n",
              "      <td>0</td>\n",
              "    </tr>\n",
              "    <tr>\n",
              "      <th>624203</th>\n",
              "      <td>9999</td>\n",
              "      <td>spotify:track:3NcJu9876GBJuNU6vJOrbb</td>\n",
              "      <td>spotify:artist:4sTFGCigAQIUiEy8wSSQNF</td>\n",
              "      <td>0</td>\n",
              "    </tr>\n",
              "    <tr>\n",
              "      <th>624204</th>\n",
              "      <td>9999</td>\n",
              "      <td>spotify:track:5TLA7O0ogTqwZHbS3ERabw</td>\n",
              "      <td>spotify:artist:4sTFGCigAQIUiEy8wSSQNF</td>\n",
              "      <td>0</td>\n",
              "    </tr>\n",
              "  </tbody>\n",
              "</table>\n",
              "<p>624205 rows × 4 columns</p>\n",
              "</div>"
            ],
            "text/plain": [
              "         pid  ... interaction\n",
              "0          0  ...           1\n",
              "1          0  ...           1\n",
              "2          0  ...           1\n",
              "3          0  ...           1\n",
              "4          0  ...           1\n",
              "...      ...  ...         ...\n",
              "624200  9999  ...           0\n",
              "624201  9999  ...           0\n",
              "624202  9999  ...           0\n",
              "624203  9999  ...           0\n",
              "624204  9999  ...           0\n",
              "\n",
              "[624205 rows x 4 columns]"
            ]
          },
          "metadata": {
            "tags": []
          },
          "execution_count": 6
        }
      ]
    },
    {
      "cell_type": "code",
      "metadata": {
        "colab": {
          "base_uri": "https://localhost:8080/"
        },
        "id": "rVpWuon_v3S9",
        "outputId": "b0ad3ee0-d7f3-4bf7-8880-75844a26738e"
      },
      "source": [
        "\n",
        "le = LabelEncoder()\n",
        "le.fit(training_df.track_uri)\n",
        "training_df['track_id'] = le.transform(training_df.track_uri)\n",
        "\n",
        "le_album = LabelEncoder()\n",
        "le_album.fit(training_df.artist_uri)\n",
        "training_df['artist_id'] = le_album.transform(training_df.artist_uri)\n",
        "\n",
        "le_pid = LabelEncoder()\n",
        "le_pid.fit(training_df.pid)\n",
        "training_df['playlist_id'] = le_pid.transform(training_df.pid)\n",
        "\n",
        "training_df\n",
        "\n",
        "test_sample_indices = get_test_samples(training_df, number_of_test_sample=1)\n",
        "\n",
        "\n",
        "test_df = training_df.iloc[test_sample_indices,:]\n",
        "test_df.reset_index(drop=True, inplace=True)\n",
        "\n",
        "training_df = training_df.drop(test_sample_indices)\n",
        "training_df.reset_index(drop=True, inplace=True)\n",
        "\n",
        "training_df.to_csv('training_df.csv', index=False) \n",
        "test_df.to_csv('test_df.csv', index=False) \n",
        "\n",
        "training_df = pd.read_csv('training_df.csv')\n",
        "test_df = pd.read_csv('test_df.csv')"
      ],
      "execution_count": 8,
      "outputs": [
        {
          "output_type": "stream",
          "text": [
            "100%|██████████| 4907/4907 [00:10<00:00, 469.77it/s]\n"
          ],
          "name": "stderr"
        }
      ]
    },
    {
      "cell_type": "code",
      "metadata": {
        "colab": {
          "base_uri": "https://localhost:8080/"
        },
        "id": "r12LYTV1avI2",
        "outputId": "ef0e62ae-0dbb-4143-a4d6-015eefb13bee"
      },
      "source": [
        "\n",
        "num_playlists = training_df.playlist_id.unique().max() + 1\n",
        "num_tracks = training_df.track_id.unique().max() + 1\n",
        "num_artists = training_df.artist_id.unique().max() + 1\n",
        "\n",
        "emb_vec_size_playlists = 16\n",
        "emb_vec_size_tracks = 16\n",
        "emb_vec_size_artists = 16\n",
        "\n",
        "playlist_input = Input(shape=(1,), dtype='int32', name = 'playlist_input')\n",
        "track_input = Input(shape=(1,), dtype='int32', name = 'track_input')\n",
        "artist_input = Input(shape=(1,), dtype='int32', name = 'artist_input')\n",
        "\n",
        "\n",
        "embedding_playlist = Embedding(input_dim = num_playlists, \n",
        "                               output_dim = emb_vec_size_playlists, \n",
        "                               name = 'playlist_embedding',\n",
        "                               input_length=1)\n",
        "\n",
        "\n",
        "embedding_track = Embedding(input_dim = num_tracks, \n",
        "                            output_dim = emb_vec_size_tracks, \n",
        "                            name = 'track_embedding',\n",
        "                            input_length=1) \n",
        "\n",
        "embedding_artist = Embedding(input_dim = num_artists, \n",
        "                            output_dim = emb_vec_size_artists, \n",
        "                            name = 'artist_embedding',\n",
        "                            input_length=1) \n",
        "\n",
        "\n",
        "playlist_emb_vec = Flatten()(embedding_playlist(playlist_input))\n",
        "track_emb_vec = Flatten()(embedding_track(track_input))\n",
        "artist_emb_vec = Flatten()(embedding_artist(artist_input))\n",
        "\n",
        "\n",
        "# Element-wise product of playlist and track embeddings \n",
        "predict_vector = Multiply()([playlist_emb_vec, track_emb_vec, artist_emb_vec])\n",
        "\n",
        "prediction = Dense(1, activation='sigmoid', name = 'prediction')(predict_vector)\n",
        "\n",
        "model = Model(inputs=[playlist_input, track_input, artist_input], outputs=prediction)\n",
        "\n",
        "model.compile(optimizer=Adam(lr=1e-3), loss='binary_crossentropy', metrics=['accuracy'])\n",
        "\n",
        "hist = model.fit([training_df.playlist_id.values, training_df.track_id.values, training_df.artist_id.values],\n",
        "                  training_df.interaction.values,\n",
        "                  validation_split=0.15, \n",
        "                  batch_size=256, \n",
        "                  epochs=3, \n",
        "                  shuffle=True)\n"
      ],
      "execution_count": 10,
      "outputs": [
        {
          "output_type": "stream",
          "text": [
            "Epoch 1/3\n",
            "2057/2057 [==============================] - 34s 16ms/step - loss: 0.5819 - accuracy: 0.8415 - val_loss: 0.4518 - val_accuracy: 0.8364\n",
            "Epoch 2/3\n",
            "2057/2057 [==============================] - 33s 16ms/step - loss: 0.3969 - accuracy: 0.8432 - val_loss: 0.4685 - val_accuracy: 0.8364\n",
            "Epoch 3/3\n",
            "2057/2057 [==============================] - 33s 16ms/step - loss: 0.2552 - accuracy: 0.8688 - val_loss: 0.5180 - val_accuracy: 0.8322\n"
          ],
          "name": "stdout"
        }
      ]
    },
    {
      "cell_type": "code",
      "metadata": {
        "colab": {
          "base_uri": "https://localhost:8080/"
        },
        "id": "_FiwPDYrazQW",
        "outputId": "65fa993d-7f6c-4e95-b143-7108f016de58"
      },
      "source": [
        "\n",
        "p_ids = test_df.playlist_id.values\n",
        "t_ids = test_df.track_id.values\n",
        "a_ids = test_df.artist_id.values\n",
        "test_len = len(p_ids)\n",
        "\n",
        "\n",
        "test_scores = []\n",
        "for i in tqdm(range(test_len)):\n",
        "  score = model.predict([np.reshape([p_ids[i]], (-1,1)), np.reshape([t_ids[i]], (-1,1)), np.reshape([a_ids[i]], (-1,1))])\n",
        "  test_scores.append(score[0][0])\n",
        "\n",
        "print(\"{}%\".format(round(np.array(test_scores).mean()*100,2)))\n",
        "\n",
        "\n",
        "train_test_df = pd.concat([training_df, test_df])\n",
        "train_test_df = train_test_df[train_test_df.interaction == 1]\n",
        "train_test_df.sort_values('pid', inplace=True)\n",
        "train_test_df.reset_index(drop=True, inplace=True)\n",
        "\n",
        "\n",
        "all_unique_track_ids = train_test_df.track_id.unique()\n",
        "neg_samples_for_test = get_negative_samples_test(train_test_df, all_unique_track_ids, number_of_neg_sample=99)\n",
        "\n",
        "test_df_2 = pd.concat([neg_samples_for_test, test_df[['playlist_id', 'track_id', 'artist_id', 'interaction']]])\n",
        "test_df_2.sort_values(['playlist_id', 'interaction'], ascending=[True, False], inplace=True)\n",
        "test_df_2.reset_index(drop=True, inplace=True)\n",
        "\n",
        "all_scores = []\n",
        "\n",
        "unique_pid_list = test_df_2.playlist_id.unique()\n",
        "for pid in tqdm(range(len(unique_pid_list)),position=0, leave=True):\n",
        "\n",
        "  pid_scores = []\n",
        "  track_ids = test_df_2[test_df_2.playlist_id == pid].track_id.values\n",
        "  artist_ids = test_df_2[test_df_2.playlist_id == pid].artist_id.values\n",
        "\n",
        "  for id in range(len(track_ids)): #from tid to id (generalizing to n dimensional matrix factorization)\n",
        "\n",
        "      score = model.predict([np.reshape([pid], (-1,1)), np.reshape([track_ids[id]], (-1,1)), np.reshape([artist_ids[id]], (-1,1))])\n",
        "      pid_scores.append(score[0][0])\n",
        "    \n",
        "  all_scores.append(pid_scores)\n",
        "\n",
        "\n",
        "np.savetxt('all_scores.txt', all_scores)\n",
        "\n",
        "#to load back\n",
        "all_scores_loaded = np.loadtxt('all_scores.txt')\n",
        "\n",
        "uniuqe_pid_list = test_df_2.playlist_id.unique()\n",
        "\n",
        "test_click_ranks = []\n",
        "\n",
        "for pid in tqdm(range(len(unique_pid_list)),position=0, leave=True):\n",
        "  pid_df = test_df_2[test_df_2.playlist_id == pid]\n",
        "  pid_df['pred_scores'] = all_scores_loaded[pid,:]\n",
        "  pid_df.sort_values('pred_scores', ascending=False, inplace=True)\n",
        "  pid_df.reset_index(drop=True, inplace=True)\n",
        "  test_click_ranks.append(pid_df[pid_df.interaction==1].index.values[0])\n",
        "\n",
        "test_click_ranks = np.array(test_click_ranks)\n",
        "\n",
        "test_click_ranks.mean()\n",
        "\n",
        "\n",
        "print_top_k_acc(test_click_ranks,1)\n",
        "print_top_k_acc(test_click_ranks,2)\n",
        "print_top_k_acc(test_click_ranks,5)\n",
        "print_top_k_acc(test_click_ranks,10)\n",
        "print_top_k_acc(test_click_ranks,20)"
      ],
      "execution_count": 11,
      "outputs": [
        {
          "output_type": "stream",
          "text": [
            "100%|██████████| 4907/4907 [03:08<00:00, 26.01it/s]\n",
            "  0%|          | 0/4907 [00:00<?, ?it/s]"
          ],
          "name": "stderr"
        },
        {
          "output_type": "stream",
          "text": [
            "85.94%\n"
          ],
          "name": "stdout"
        },
        {
          "output_type": "stream",
          "text": [
            "100%|██████████| 4907/4907 [12:08<00:00,  6.73it/s]\n",
            "100%|██████████| 4907/4907 [5:10:34<00:00,  3.80s/it]\n",
            "100%|██████████| 4907/4907 [00:10<00:00, 471.92it/s]"
          ],
          "name": "stderr"
        },
        {
          "output_type": "stream",
          "text": [
            "Top-1 accuracy: 0.4899\n",
            "Top-2 accuracy: 0.5506\n",
            "Top-5 accuracy: 0.6126\n",
            "Top-10 accuracy: 0.6499\n",
            "Top-20 accuracy: 0.6876\n"
          ],
          "name": "stdout"
        },
        {
          "output_type": "stream",
          "text": [
            "\n"
          ],
          "name": "stderr"
        }
      ]
    },
    {
      "cell_type": "code",
      "metadata": {
        "id": "GAnN1vqskfgP"
      },
      "source": [
        ""
      ],
      "execution_count": null,
      "outputs": []
    }
  ]
}