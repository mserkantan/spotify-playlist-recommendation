{
  "nbformat": 4,
  "nbformat_minor": 0,
  "metadata": {
    "colab": {
      "name": "bbm406-project.ipynb",
      "provenance": [],
      "collapsed_sections": [],
      "mount_file_id": "1zT3s06Xna1TSLYLM8yziSFOa5QPzZody",
      "authorship_tag": "ABX9TyPrxnp2tfi6HbTUYZS6WLBe",
      "include_colab_link": true
    },
    "kernelspec": {
      "name": "python3",
      "display_name": "Python 3"
    },
    "language_info": {
      "name": "python"
    }
  },
  "cells": [
    {
      "cell_type": "markdown",
      "metadata": {
        "id": "view-in-github",
        "colab_type": "text"
      },
      "source": [
        "<a href=\"https://colab.research.google.com/github/mserkantan/spotify-playlist-recommendation/blob/main/bbm406_project.ipynb\" target=\"_parent\"><img src=\"https://colab.research.google.com/assets/colab-badge.svg\" alt=\"Open In Colab\"/></a>"
      ]
    },
    {
      "cell_type": "markdown",
      "metadata": {
        "id": "aWCN7hb_6Z6t"
      },
      "source": [
        "### Setup & Importing Libraries"
      ]
    },
    {
      "cell_type": "code",
      "metadata": {
        "id": "R1-_EQxYauL5"
      },
      "source": [
        "import numpy as np\n",
        "import pandas as pd\n",
        "\n",
        "import matplotlib.pyplot as plt\n",
        "from matplotlib import style\n",
        "import seaborn as sns\n",
        "\n",
        "import os\n",
        "from tqdm import tqdm \n",
        "import json\n",
        "\n",
        "# configure\n",
        "%matplotlib inline  \n",
        "style.use('fivethirtyeight')\n",
        "sns.set(style='whitegrid',color_codes=True)\n",
        "\n",
        "# sklearn libraries\n",
        "from sklearn.preprocessing import LabelEncoder, OneHotEncoder"
      ],
      "execution_count": 344,
      "outputs": []
    },
    {
      "cell_type": "code",
      "metadata": {
        "colab": {
          "base_uri": "https://localhost:8080/"
        },
        "id": "dC983M39eNp5",
        "outputId": "cbb51ead-c71e-477a-ab49-daaf93a17438"
      },
      "source": [
        "from google.colab import drive\n",
        "drive.mount('/content/drive')"
      ],
      "execution_count": 2,
      "outputs": [
        {
          "output_type": "stream",
          "text": [
            "Mounted at /content/drive\n"
          ],
          "name": "stdout"
        }
      ]
    },
    {
      "cell_type": "code",
      "metadata": {
        "id": "i5crTyHKba63"
      },
      "source": [
        "!cp \"/content/drive/MyDrive/data.zip\" .\n",
        "!unzip -q data.zip\n",
        "!rm data.zip"
      ],
      "execution_count": 2,
      "outputs": []
    },
    {
      "cell_type": "markdown",
      "metadata": {
        "id": "1VOotKgg6WjM"
      },
      "source": [
        "### Data Preprocessing"
      ]
    },
    {
      "cell_type": "code",
      "metadata": {
        "id": "gDXii6tgec7k"
      },
      "source": [
        "def get_playlists_df(number_of_files):\n",
        "    \n",
        "    start = 0\n",
        "    end = 1000\n",
        "    list_of_df = []\n",
        "    \n",
        "    for i in range(number_of_files):\n",
        "        \n",
        "        path = 'data/mpd.slice.' + str(start) + \"-\" + str(end-1) + '.json'\n",
        "        json_file = json.load(open(path, 'r'))\n",
        "        \n",
        "        playlists_df = pd.DataFrame.from_dict(json_file['playlists'], orient='columns')\n",
        "        list_of_df.append(playlists_df)\n",
        "        \n",
        "        start = end\n",
        "        end = end + 1000\n",
        "    \n",
        "    concat_playlists_df = pd.concat(list_of_df).reset_index(drop=True)\n",
        "        \n",
        "        \n",
        "    return concat_playlists_df"
      ],
      "execution_count": 9,
      "outputs": []
    },
    {
      "cell_type": "code",
      "metadata": {
        "id": "DVBYEEkQ6jWD"
      },
      "source": [
        "def get_all_songs_df(playlists_df):\n",
        "    all_songs_array = []\n",
        "    for index, row in playlists_df.iterrows():\n",
        "        for track in row['tracks']:\n",
        "            all_songs_array.append([track['track_uri'], \n",
        "                                      track['track_name'], \n",
        "                                      track['artist_uri'], \n",
        "                                      track['artist_name'],  \n",
        "                                      track['album_uri'], \n",
        "                                      track['album_name'],\n",
        "                                      row['pid']])\n",
        "\n",
        "    all_songs_df = pd.DataFrame(all_songs_array, columns=['track_uri', \n",
        "                                                          'track_name', \n",
        "                                                          'artist_uri', \n",
        "                                                          'artist_name', \n",
        "                                                          'album_uri', \n",
        "                                                          'album_name', \n",
        "                                                          'pid'])\n",
        "    return all_songs_df"
      ],
      "execution_count": 10,
      "outputs": []
    },
    {
      "cell_type": "code",
      "metadata": {
        "colab": {
          "base_uri": "https://localhost:8080/",
          "height": 419
        },
        "id": "WseFleKk6klu",
        "outputId": "1342ef1d-1e39-46e0-b9c3-d4f6ffd40a9d"
      },
      "source": [
        "# get playlists\n",
        "playlists_df = get_playlists_df(number_of_files=10)\n",
        "playlists_df"
      ],
      "execution_count": 11,
      "outputs": [
        {
          "output_type": "execute_result",
          "data": {
            "text/html": [
              "<div>\n",
              "<style scoped>\n",
              "    .dataframe tbody tr th:only-of-type {\n",
              "        vertical-align: middle;\n",
              "    }\n",
              "\n",
              "    .dataframe tbody tr th {\n",
              "        vertical-align: top;\n",
              "    }\n",
              "\n",
              "    .dataframe thead th {\n",
              "        text-align: right;\n",
              "    }\n",
              "</style>\n",
              "<table border=\"1\" class=\"dataframe\">\n",
              "  <thead>\n",
              "    <tr style=\"text-align: right;\">\n",
              "      <th></th>\n",
              "      <th>name</th>\n",
              "      <th>collaborative</th>\n",
              "      <th>pid</th>\n",
              "      <th>modified_at</th>\n",
              "      <th>num_tracks</th>\n",
              "      <th>num_albums</th>\n",
              "      <th>num_followers</th>\n",
              "      <th>tracks</th>\n",
              "      <th>num_edits</th>\n",
              "      <th>duration_ms</th>\n",
              "      <th>num_artists</th>\n",
              "      <th>description</th>\n",
              "    </tr>\n",
              "  </thead>\n",
              "  <tbody>\n",
              "    <tr>\n",
              "      <th>0</th>\n",
              "      <td>Throwbacks</td>\n",
              "      <td>false</td>\n",
              "      <td>0</td>\n",
              "      <td>1493424000</td>\n",
              "      <td>52</td>\n",
              "      <td>47</td>\n",
              "      <td>1</td>\n",
              "      <td>[{'pos': 0, 'artist_name': 'Missy Elliott', 't...</td>\n",
              "      <td>6</td>\n",
              "      <td>11532414</td>\n",
              "      <td>37</td>\n",
              "      <td>NaN</td>\n",
              "    </tr>\n",
              "    <tr>\n",
              "      <th>1</th>\n",
              "      <td>Awesome Playlist</td>\n",
              "      <td>false</td>\n",
              "      <td>1</td>\n",
              "      <td>1506556800</td>\n",
              "      <td>39</td>\n",
              "      <td>23</td>\n",
              "      <td>1</td>\n",
              "      <td>[{'pos': 0, 'artist_name': 'Survivor', 'track_...</td>\n",
              "      <td>5</td>\n",
              "      <td>11656470</td>\n",
              "      <td>21</td>\n",
              "      <td>NaN</td>\n",
              "    </tr>\n",
              "    <tr>\n",
              "      <th>2</th>\n",
              "      <td>korean</td>\n",
              "      <td>false</td>\n",
              "      <td>2</td>\n",
              "      <td>1505692800</td>\n",
              "      <td>64</td>\n",
              "      <td>51</td>\n",
              "      <td>1</td>\n",
              "      <td>[{'pos': 0, 'artist_name': 'Hoody', 'track_uri...</td>\n",
              "      <td>18</td>\n",
              "      <td>14039958</td>\n",
              "      <td>31</td>\n",
              "      <td>NaN</td>\n",
              "    </tr>\n",
              "    <tr>\n",
              "      <th>3</th>\n",
              "      <td>mat</td>\n",
              "      <td>false</td>\n",
              "      <td>3</td>\n",
              "      <td>1501027200</td>\n",
              "      <td>126</td>\n",
              "      <td>107</td>\n",
              "      <td>1</td>\n",
              "      <td>[{'pos': 0, 'artist_name': 'Camille Saint-Saën...</td>\n",
              "      <td>4</td>\n",
              "      <td>28926058</td>\n",
              "      <td>86</td>\n",
              "      <td>NaN</td>\n",
              "    </tr>\n",
              "    <tr>\n",
              "      <th>4</th>\n",
              "      <td>90s</td>\n",
              "      <td>false</td>\n",
              "      <td>4</td>\n",
              "      <td>1401667200</td>\n",
              "      <td>17</td>\n",
              "      <td>16</td>\n",
              "      <td>2</td>\n",
              "      <td>[{'pos': 0, 'artist_name': 'The Smashing Pumpk...</td>\n",
              "      <td>7</td>\n",
              "      <td>4335282</td>\n",
              "      <td>16</td>\n",
              "      <td>NaN</td>\n",
              "    </tr>\n",
              "    <tr>\n",
              "      <th>...</th>\n",
              "      <td>...</td>\n",
              "      <td>...</td>\n",
              "      <td>...</td>\n",
              "      <td>...</td>\n",
              "      <td>...</td>\n",
              "      <td>...</td>\n",
              "      <td>...</td>\n",
              "      <td>...</td>\n",
              "      <td>...</td>\n",
              "      <td>...</td>\n",
              "      <td>...</td>\n",
              "      <td>...</td>\n",
              "    </tr>\n",
              "    <tr>\n",
              "      <th>9995</th>\n",
              "      <td>rap</td>\n",
              "      <td>false</td>\n",
              "      <td>9995</td>\n",
              "      <td>1491782400</td>\n",
              "      <td>34</td>\n",
              "      <td>26</td>\n",
              "      <td>1</td>\n",
              "      <td>[{'pos': 0, 'artist_name': 'Lecrae', 'track_ur...</td>\n",
              "      <td>16</td>\n",
              "      <td>8530582</td>\n",
              "      <td>15</td>\n",
              "      <td>NaN</td>\n",
              "    </tr>\n",
              "    <tr>\n",
              "      <th>9996</th>\n",
              "      <td>Blues</td>\n",
              "      <td>false</td>\n",
              "      <td>9996</td>\n",
              "      <td>1482364800</td>\n",
              "      <td>57</td>\n",
              "      <td>48</td>\n",
              "      <td>1</td>\n",
              "      <td>[{'pos': 0, 'artist_name': 'Robert Johnson', '...</td>\n",
              "      <td>15</td>\n",
              "      <td>13010049</td>\n",
              "      <td>30</td>\n",
              "      <td>NaN</td>\n",
              "    </tr>\n",
              "    <tr>\n",
              "      <th>9997</th>\n",
              "      <td>game songs</td>\n",
              "      <td>false</td>\n",
              "      <td>9997</td>\n",
              "      <td>1508371200</td>\n",
              "      <td>27</td>\n",
              "      <td>24</td>\n",
              "      <td>4</td>\n",
              "      <td>[{'pos': 0, 'artist_name': 'NateWantsToBattle'...</td>\n",
              "      <td>23</td>\n",
              "      <td>5104068</td>\n",
              "      <td>7</td>\n",
              "      <td>NaN</td>\n",
              "    </tr>\n",
              "    <tr>\n",
              "      <th>9998</th>\n",
              "      <td>country</td>\n",
              "      <td>false</td>\n",
              "      <td>9998</td>\n",
              "      <td>1466208000</td>\n",
              "      <td>12</td>\n",
              "      <td>12</td>\n",
              "      <td>1</td>\n",
              "      <td>[{'pos': 0, 'artist_name': 'Little Big Town', ...</td>\n",
              "      <td>3</td>\n",
              "      <td>2459585</td>\n",
              "      <td>12</td>\n",
              "      <td>NaN</td>\n",
              "    </tr>\n",
              "    <tr>\n",
              "      <th>9999</th>\n",
              "      <td>Country jams</td>\n",
              "      <td>false</td>\n",
              "      <td>9999</td>\n",
              "      <td>1492905600</td>\n",
              "      <td>55</td>\n",
              "      <td>41</td>\n",
              "      <td>3</td>\n",
              "      <td>[{'pos': 0, 'artist_name': 'Granger Smith', 't...</td>\n",
              "      <td>22</td>\n",
              "      <td>11604099</td>\n",
              "      <td>33</td>\n",
              "      <td>NaN</td>\n",
              "    </tr>\n",
              "  </tbody>\n",
              "</table>\n",
              "<p>10000 rows × 12 columns</p>\n",
              "</div>"
            ],
            "text/plain": [
              "                  name collaborative  ...  num_artists  description\n",
              "0           Throwbacks         false  ...           37          NaN\n",
              "1     Awesome Playlist         false  ...           21          NaN\n",
              "2              korean          false  ...           31          NaN\n",
              "3                  mat         false  ...           86          NaN\n",
              "4                  90s         false  ...           16          NaN\n",
              "...                ...           ...  ...          ...          ...\n",
              "9995               rap         false  ...           15          NaN\n",
              "9996            Blues          false  ...           30          NaN\n",
              "9997        game songs         false  ...            7          NaN\n",
              "9998           country         false  ...           12          NaN\n",
              "9999      Country jams         false  ...           33          NaN\n",
              "\n",
              "[10000 rows x 12 columns]"
            ]
          },
          "metadata": {
            "tags": []
          },
          "execution_count": 11
        }
      ]
    },
    {
      "cell_type": "code",
      "metadata": {
        "colab": {
          "base_uri": "https://localhost:8080/",
          "height": 419
        },
        "id": "XVk3B1A87KdU",
        "outputId": "feff5e3c-b287-4642-d7d4-ec95e276b882"
      },
      "source": [
        "# apply the threshold to playlists \n",
        "threshold_num_tracks = 50\n",
        "playlists_df = playlists_df[playlists_df.num_tracks > threshold_num_tracks]\n",
        "playlists_df"
      ],
      "execution_count": 12,
      "outputs": [
        {
          "output_type": "execute_result",
          "data": {
            "text/html": [
              "<div>\n",
              "<style scoped>\n",
              "    .dataframe tbody tr th:only-of-type {\n",
              "        vertical-align: middle;\n",
              "    }\n",
              "\n",
              "    .dataframe tbody tr th {\n",
              "        vertical-align: top;\n",
              "    }\n",
              "\n",
              "    .dataframe thead th {\n",
              "        text-align: right;\n",
              "    }\n",
              "</style>\n",
              "<table border=\"1\" class=\"dataframe\">\n",
              "  <thead>\n",
              "    <tr style=\"text-align: right;\">\n",
              "      <th></th>\n",
              "      <th>name</th>\n",
              "      <th>collaborative</th>\n",
              "      <th>pid</th>\n",
              "      <th>modified_at</th>\n",
              "      <th>num_tracks</th>\n",
              "      <th>num_albums</th>\n",
              "      <th>num_followers</th>\n",
              "      <th>tracks</th>\n",
              "      <th>num_edits</th>\n",
              "      <th>duration_ms</th>\n",
              "      <th>num_artists</th>\n",
              "      <th>description</th>\n",
              "    </tr>\n",
              "  </thead>\n",
              "  <tbody>\n",
              "    <tr>\n",
              "      <th>0</th>\n",
              "      <td>Throwbacks</td>\n",
              "      <td>false</td>\n",
              "      <td>0</td>\n",
              "      <td>1493424000</td>\n",
              "      <td>52</td>\n",
              "      <td>47</td>\n",
              "      <td>1</td>\n",
              "      <td>[{'pos': 0, 'artist_name': 'Missy Elliott', 't...</td>\n",
              "      <td>6</td>\n",
              "      <td>11532414</td>\n",
              "      <td>37</td>\n",
              "      <td>NaN</td>\n",
              "    </tr>\n",
              "    <tr>\n",
              "      <th>2</th>\n",
              "      <td>korean</td>\n",
              "      <td>false</td>\n",
              "      <td>2</td>\n",
              "      <td>1505692800</td>\n",
              "      <td>64</td>\n",
              "      <td>51</td>\n",
              "      <td>1</td>\n",
              "      <td>[{'pos': 0, 'artist_name': 'Hoody', 'track_uri...</td>\n",
              "      <td>18</td>\n",
              "      <td>14039958</td>\n",
              "      <td>31</td>\n",
              "      <td>NaN</td>\n",
              "    </tr>\n",
              "    <tr>\n",
              "      <th>3</th>\n",
              "      <td>mat</td>\n",
              "      <td>false</td>\n",
              "      <td>3</td>\n",
              "      <td>1501027200</td>\n",
              "      <td>126</td>\n",
              "      <td>107</td>\n",
              "      <td>1</td>\n",
              "      <td>[{'pos': 0, 'artist_name': 'Camille Saint-Saën...</td>\n",
              "      <td>4</td>\n",
              "      <td>28926058</td>\n",
              "      <td>86</td>\n",
              "      <td>NaN</td>\n",
              "    </tr>\n",
              "    <tr>\n",
              "      <th>5</th>\n",
              "      <td>Wedding</td>\n",
              "      <td>false</td>\n",
              "      <td>5</td>\n",
              "      <td>1430956800</td>\n",
              "      <td>80</td>\n",
              "      <td>71</td>\n",
              "      <td>1</td>\n",
              "      <td>[{'pos': 0, 'artist_name': 'Cali Swag District...</td>\n",
              "      <td>3</td>\n",
              "      <td>19156557</td>\n",
              "      <td>56</td>\n",
              "      <td>NaN</td>\n",
              "    </tr>\n",
              "    <tr>\n",
              "      <th>7</th>\n",
              "      <td>2017</td>\n",
              "      <td>false</td>\n",
              "      <td>7</td>\n",
              "      <td>1509321600</td>\n",
              "      <td>53</td>\n",
              "      <td>52</td>\n",
              "      <td>1</td>\n",
              "      <td>[{'pos': 0, 'artist_name': 'Fink', 'track_uri'...</td>\n",
              "      <td>38</td>\n",
              "      <td>12674796</td>\n",
              "      <td>48</td>\n",
              "      <td>NaN</td>\n",
              "    </tr>\n",
              "    <tr>\n",
              "      <th>...</th>\n",
              "      <td>...</td>\n",
              "      <td>...</td>\n",
              "      <td>...</td>\n",
              "      <td>...</td>\n",
              "      <td>...</td>\n",
              "      <td>...</td>\n",
              "      <td>...</td>\n",
              "      <td>...</td>\n",
              "      <td>...</td>\n",
              "      <td>...</td>\n",
              "      <td>...</td>\n",
              "      <td>...</td>\n",
              "    </tr>\n",
              "    <tr>\n",
              "      <th>9992</th>\n",
              "      <td>Likes</td>\n",
              "      <td>false</td>\n",
              "      <td>9992</td>\n",
              "      <td>1509062400</td>\n",
              "      <td>74</td>\n",
              "      <td>69</td>\n",
              "      <td>3</td>\n",
              "      <td>[{'pos': 0, 'artist_name': 'High Highs', 'trac...</td>\n",
              "      <td>67</td>\n",
              "      <td>17521523</td>\n",
              "      <td>65</td>\n",
              "      <td>NaN</td>\n",
              "    </tr>\n",
              "    <tr>\n",
              "      <th>9993</th>\n",
              "      <td>October</td>\n",
              "      <td>false</td>\n",
              "      <td>9993</td>\n",
              "      <td>1478563200</td>\n",
              "      <td>58</td>\n",
              "      <td>56</td>\n",
              "      <td>2</td>\n",
              "      <td>[{'pos': 0, 'artist_name': 'Two Door Cinema Cl...</td>\n",
              "      <td>10</td>\n",
              "      <td>12661986</td>\n",
              "      <td>55</td>\n",
              "      <td>NaN</td>\n",
              "    </tr>\n",
              "    <tr>\n",
              "      <th>9994</th>\n",
              "      <td>alone</td>\n",
              "      <td>false</td>\n",
              "      <td>9994</td>\n",
              "      <td>1387065600</td>\n",
              "      <td>56</td>\n",
              "      <td>37</td>\n",
              "      <td>1</td>\n",
              "      <td>[{'pos': 0, 'artist_name': 'Britt Nicole', 'tr...</td>\n",
              "      <td>11</td>\n",
              "      <td>13389556</td>\n",
              "      <td>21</td>\n",
              "      <td>NaN</td>\n",
              "    </tr>\n",
              "    <tr>\n",
              "      <th>9996</th>\n",
              "      <td>Blues</td>\n",
              "      <td>false</td>\n",
              "      <td>9996</td>\n",
              "      <td>1482364800</td>\n",
              "      <td>57</td>\n",
              "      <td>48</td>\n",
              "      <td>1</td>\n",
              "      <td>[{'pos': 0, 'artist_name': 'Robert Johnson', '...</td>\n",
              "      <td>15</td>\n",
              "      <td>13010049</td>\n",
              "      <td>30</td>\n",
              "      <td>NaN</td>\n",
              "    </tr>\n",
              "    <tr>\n",
              "      <th>9999</th>\n",
              "      <td>Country jams</td>\n",
              "      <td>false</td>\n",
              "      <td>9999</td>\n",
              "      <td>1492905600</td>\n",
              "      <td>55</td>\n",
              "      <td>41</td>\n",
              "      <td>3</td>\n",
              "      <td>[{'pos': 0, 'artist_name': 'Granger Smith', 't...</td>\n",
              "      <td>22</td>\n",
              "      <td>11604099</td>\n",
              "      <td>33</td>\n",
              "      <td>NaN</td>\n",
              "    </tr>\n",
              "  </tbody>\n",
              "</table>\n",
              "<p>4907 rows × 12 columns</p>\n",
              "</div>"
            ],
            "text/plain": [
              "              name collaborative   pid  ...  duration_ms  num_artists  description\n",
              "0       Throwbacks         false     0  ...     11532414           37          NaN\n",
              "2          korean          false     2  ...     14039958           31          NaN\n",
              "3              mat         false     3  ...     28926058           86          NaN\n",
              "5          Wedding         false     5  ...     19156557           56          NaN\n",
              "7             2017         false     7  ...     12674796           48          NaN\n",
              "...            ...           ...   ...  ...          ...          ...          ...\n",
              "9992         Likes         false  9992  ...     17521523           65          NaN\n",
              "9993       October         false  9993  ...     12661986           55          NaN\n",
              "9994         alone         false  9994  ...     13389556           21          NaN\n",
              "9996        Blues          false  9996  ...     13010049           30          NaN\n",
              "9999  Country jams         false  9999  ...     11604099           33          NaN\n",
              "\n",
              "[4907 rows x 12 columns]"
            ]
          },
          "metadata": {
            "tags": []
          },
          "execution_count": 12
        }
      ]
    },
    {
      "cell_type": "code",
      "metadata": {
        "colab": {
          "base_uri": "https://localhost:8080/",
          "height": 538
        },
        "id": "4yypLxVi7hBl",
        "outputId": "a8edf63f-60f0-49f9-c64c-88b18692da30"
      },
      "source": [
        "# get all songs\n",
        "all_songs_df = get_all_songs_df(playlists_df)\n",
        "all_songs_df"
      ],
      "execution_count": 13,
      "outputs": [
        {
          "output_type": "execute_result",
          "data": {
            "text/html": [
              "<div>\n",
              "<style scoped>\n",
              "    .dataframe tbody tr th:only-of-type {\n",
              "        vertical-align: middle;\n",
              "    }\n",
              "\n",
              "    .dataframe tbody tr th {\n",
              "        vertical-align: top;\n",
              "    }\n",
              "\n",
              "    .dataframe thead th {\n",
              "        text-align: right;\n",
              "    }\n",
              "</style>\n",
              "<table border=\"1\" class=\"dataframe\">\n",
              "  <thead>\n",
              "    <tr style=\"text-align: right;\">\n",
              "      <th></th>\n",
              "      <th>track_uri</th>\n",
              "      <th>track_name</th>\n",
              "      <th>artist_uri</th>\n",
              "      <th>artist_name</th>\n",
              "      <th>album_uri</th>\n",
              "      <th>album_name</th>\n",
              "      <th>pid</th>\n",
              "    </tr>\n",
              "  </thead>\n",
              "  <tbody>\n",
              "    <tr>\n",
              "      <th>0</th>\n",
              "      <td>spotify:track:0UaMYEvWZi0ZqiDOoHU3YI</td>\n",
              "      <td>Lose Control (feat. Ciara &amp; Fat Man Scoop)</td>\n",
              "      <td>spotify:artist:2wIVse2owClT7go1WT98tk</td>\n",
              "      <td>Missy Elliott</td>\n",
              "      <td>spotify:album:6vV5UrXcfyQD1wu4Qo2I9K</td>\n",
              "      <td>The Cookbook</td>\n",
              "      <td>0</td>\n",
              "    </tr>\n",
              "    <tr>\n",
              "      <th>1</th>\n",
              "      <td>spotify:track:6I9VzXrHxO9rA9A5euc8Ak</td>\n",
              "      <td>Toxic</td>\n",
              "      <td>spotify:artist:26dSoYclwsYLMAKD3tpOr4</td>\n",
              "      <td>Britney Spears</td>\n",
              "      <td>spotify:album:0z7pVBGOD7HCIB7S8eLkLI</td>\n",
              "      <td>In The Zone</td>\n",
              "      <td>0</td>\n",
              "    </tr>\n",
              "    <tr>\n",
              "      <th>2</th>\n",
              "      <td>spotify:track:0WqIKmW4BTrj3eJFmnCKMv</td>\n",
              "      <td>Crazy In Love</td>\n",
              "      <td>spotify:artist:6vWDO969PvNqNYHIOW5v0m</td>\n",
              "      <td>Beyoncé</td>\n",
              "      <td>spotify:album:25hVFAxTlDvXbx2X2QkUkE</td>\n",
              "      <td>Dangerously In Love (Alben für die Ewigkeit)</td>\n",
              "      <td>0</td>\n",
              "    </tr>\n",
              "    <tr>\n",
              "      <th>3</th>\n",
              "      <td>spotify:track:1AWQoqb9bSvzTjaLralEkT</td>\n",
              "      <td>Rock Your Body</td>\n",
              "      <td>spotify:artist:31TPClRtHm23RisEBtV3X7</td>\n",
              "      <td>Justin Timberlake</td>\n",
              "      <td>spotify:album:6QPkyl04rXwTGlGlcYaRoW</td>\n",
              "      <td>Justified</td>\n",
              "      <td>0</td>\n",
              "    </tr>\n",
              "    <tr>\n",
              "      <th>4</th>\n",
              "      <td>spotify:track:1lzr43nnXAijIGYnCT8M8H</td>\n",
              "      <td>It Wasn't Me</td>\n",
              "      <td>spotify:artist:5EvFsr3kj42KNv97ZEnqij</td>\n",
              "      <td>Shaggy</td>\n",
              "      <td>spotify:album:6NmFmPX56pcLBOFMhIiKvF</td>\n",
              "      <td>Hot Shot</td>\n",
              "      <td>0</td>\n",
              "    </tr>\n",
              "    <tr>\n",
              "      <th>...</th>\n",
              "      <td>...</td>\n",
              "      <td>...</td>\n",
              "      <td>...</td>\n",
              "      <td>...</td>\n",
              "      <td>...</td>\n",
              "      <td>...</td>\n",
              "      <td>...</td>\n",
              "    </tr>\n",
              "    <tr>\n",
              "      <th>526060</th>\n",
              "      <td>spotify:track:6ZOPiKQeibCn7fP8dncucL</td>\n",
              "      <td>Blue Ain't Your Color</td>\n",
              "      <td>spotify:artist:0u2FHSq3ln94y5Q57xazwf</td>\n",
              "      <td>Keith Urban</td>\n",
              "      <td>spotify:album:1r7ABqzNXQnUPAH3ZjrHMn</td>\n",
              "      <td>Ripcord</td>\n",
              "      <td>9999</td>\n",
              "    </tr>\n",
              "    <tr>\n",
              "      <th>526061</th>\n",
              "      <td>spotify:track:7pxhKtuTwofDIdgHx2DcVK</td>\n",
              "      <td>Seein' Red</td>\n",
              "      <td>spotify:artist:1dID9zgn0OV0Y8ud7Mh2tS</td>\n",
              "      <td>Dustin Lynch</td>\n",
              "      <td>spotify:album:23cuZhPWDfX1uKD4qwuv7t</td>\n",
              "      <td>Current Mood</td>\n",
              "      <td>9999</td>\n",
              "    </tr>\n",
              "    <tr>\n",
              "      <th>526062</th>\n",
              "      <td>spotify:track:7mldq42yDuxiUNn08nvzHO</td>\n",
              "      <td>Body Like A Back Road</td>\n",
              "      <td>spotify:artist:2kucQ9jQwuD8jWdtR9Ef38</td>\n",
              "      <td>Sam Hunt</td>\n",
              "      <td>spotify:album:2N7kidh1wA9EoLdf16QWrz</td>\n",
              "      <td>Body Like A Back Road</td>\n",
              "      <td>9999</td>\n",
              "    </tr>\n",
              "    <tr>\n",
              "      <th>526063</th>\n",
              "      <td>spotify:track:23TxRN09aR1RB0G0tFoT0b</td>\n",
              "      <td>Better Man</td>\n",
              "      <td>spotify:artist:3CygdxquGHurS7f9LjNLkv</td>\n",
              "      <td>Little Big Town</td>\n",
              "      <td>spotify:album:2aQOzEjLzPkffXDwREXdAh</td>\n",
              "      <td>The Breaker</td>\n",
              "      <td>9999</td>\n",
              "    </tr>\n",
              "    <tr>\n",
              "      <th>526064</th>\n",
              "      <td>spotify:track:2TAcwD5KcV9uY3O1tLGV15</td>\n",
              "      <td>Are You Gonna Kiss Me Or Not</td>\n",
              "      <td>spotify:artist:0Bvs8yPjrQSbmVIRqSg1Sp</td>\n",
              "      <td>Thompson Square</td>\n",
              "      <td>spotify:album:0kXrl96iUzWkRvxnfrC2YF</td>\n",
              "      <td>Thompson Square</td>\n",
              "      <td>9999</td>\n",
              "    </tr>\n",
              "  </tbody>\n",
              "</table>\n",
              "<p>526065 rows × 7 columns</p>\n",
              "</div>"
            ],
            "text/plain": [
              "                                   track_uri  ...   pid\n",
              "0       spotify:track:0UaMYEvWZi0ZqiDOoHU3YI  ...     0\n",
              "1       spotify:track:6I9VzXrHxO9rA9A5euc8Ak  ...     0\n",
              "2       spotify:track:0WqIKmW4BTrj3eJFmnCKMv  ...     0\n",
              "3       spotify:track:1AWQoqb9bSvzTjaLralEkT  ...     0\n",
              "4       spotify:track:1lzr43nnXAijIGYnCT8M8H  ...     0\n",
              "...                                      ...  ...   ...\n",
              "526060  spotify:track:6ZOPiKQeibCn7fP8dncucL  ...  9999\n",
              "526061  spotify:track:7pxhKtuTwofDIdgHx2DcVK  ...  9999\n",
              "526062  spotify:track:7mldq42yDuxiUNn08nvzHO  ...  9999\n",
              "526063  spotify:track:23TxRN09aR1RB0G0tFoT0b  ...  9999\n",
              "526064  spotify:track:2TAcwD5KcV9uY3O1tLGV15  ...  9999\n",
              "\n",
              "[526065 rows x 7 columns]"
            ]
          },
          "metadata": {
            "tags": []
          },
          "execution_count": 13
        }
      ]
    },
    {
      "cell_type": "markdown",
      "metadata": {
        "id": "C0D8u9IB8NH0"
      },
      "source": [
        "#### Preparing training data"
      ]
    },
    {
      "cell_type": "code",
      "metadata": {
        "colab": {
          "base_uri": "https://localhost:8080/",
          "height": 419
        },
        "id": "XrXZGbi17miX",
        "outputId": "e90a7757-b04f-4fcc-cc44-ea2b20a57b87"
      },
      "source": [
        "# get df that we will use in training // artist_uri and album_uri can be added\n",
        "training_df = all_songs_df[['pid', 'track_uri']]\n",
        "training_df"
      ],
      "execution_count": 14,
      "outputs": [
        {
          "output_type": "execute_result",
          "data": {
            "text/html": [
              "<div>\n",
              "<style scoped>\n",
              "    .dataframe tbody tr th:only-of-type {\n",
              "        vertical-align: middle;\n",
              "    }\n",
              "\n",
              "    .dataframe tbody tr th {\n",
              "        vertical-align: top;\n",
              "    }\n",
              "\n",
              "    .dataframe thead th {\n",
              "        text-align: right;\n",
              "    }\n",
              "</style>\n",
              "<table border=\"1\" class=\"dataframe\">\n",
              "  <thead>\n",
              "    <tr style=\"text-align: right;\">\n",
              "      <th></th>\n",
              "      <th>pid</th>\n",
              "      <th>track_uri</th>\n",
              "    </tr>\n",
              "  </thead>\n",
              "  <tbody>\n",
              "    <tr>\n",
              "      <th>0</th>\n",
              "      <td>0</td>\n",
              "      <td>spotify:track:0UaMYEvWZi0ZqiDOoHU3YI</td>\n",
              "    </tr>\n",
              "    <tr>\n",
              "      <th>1</th>\n",
              "      <td>0</td>\n",
              "      <td>spotify:track:6I9VzXrHxO9rA9A5euc8Ak</td>\n",
              "    </tr>\n",
              "    <tr>\n",
              "      <th>2</th>\n",
              "      <td>0</td>\n",
              "      <td>spotify:track:0WqIKmW4BTrj3eJFmnCKMv</td>\n",
              "    </tr>\n",
              "    <tr>\n",
              "      <th>3</th>\n",
              "      <td>0</td>\n",
              "      <td>spotify:track:1AWQoqb9bSvzTjaLralEkT</td>\n",
              "    </tr>\n",
              "    <tr>\n",
              "      <th>4</th>\n",
              "      <td>0</td>\n",
              "      <td>spotify:track:1lzr43nnXAijIGYnCT8M8H</td>\n",
              "    </tr>\n",
              "    <tr>\n",
              "      <th>...</th>\n",
              "      <td>...</td>\n",
              "      <td>...</td>\n",
              "    </tr>\n",
              "    <tr>\n",
              "      <th>526060</th>\n",
              "      <td>9999</td>\n",
              "      <td>spotify:track:6ZOPiKQeibCn7fP8dncucL</td>\n",
              "    </tr>\n",
              "    <tr>\n",
              "      <th>526061</th>\n",
              "      <td>9999</td>\n",
              "      <td>spotify:track:7pxhKtuTwofDIdgHx2DcVK</td>\n",
              "    </tr>\n",
              "    <tr>\n",
              "      <th>526062</th>\n",
              "      <td>9999</td>\n",
              "      <td>spotify:track:7mldq42yDuxiUNn08nvzHO</td>\n",
              "    </tr>\n",
              "    <tr>\n",
              "      <th>526063</th>\n",
              "      <td>9999</td>\n",
              "      <td>spotify:track:23TxRN09aR1RB0G0tFoT0b</td>\n",
              "    </tr>\n",
              "    <tr>\n",
              "      <th>526064</th>\n",
              "      <td>9999</td>\n",
              "      <td>spotify:track:2TAcwD5KcV9uY3O1tLGV15</td>\n",
              "    </tr>\n",
              "  </tbody>\n",
              "</table>\n",
              "<p>526065 rows × 2 columns</p>\n",
              "</div>"
            ],
            "text/plain": [
              "         pid                             track_uri\n",
              "0          0  spotify:track:0UaMYEvWZi0ZqiDOoHU3YI\n",
              "1          0  spotify:track:6I9VzXrHxO9rA9A5euc8Ak\n",
              "2          0  spotify:track:0WqIKmW4BTrj3eJFmnCKMv\n",
              "3          0  spotify:track:1AWQoqb9bSvzTjaLralEkT\n",
              "4          0  spotify:track:1lzr43nnXAijIGYnCT8M8H\n",
              "...      ...                                   ...\n",
              "526060  9999  spotify:track:6ZOPiKQeibCn7fP8dncucL\n",
              "526061  9999  spotify:track:7pxhKtuTwofDIdgHx2DcVK\n",
              "526062  9999  spotify:track:7mldq42yDuxiUNn08nvzHO\n",
              "526063  9999  spotify:track:23TxRN09aR1RB0G0tFoT0b\n",
              "526064  9999  spotify:track:2TAcwD5KcV9uY3O1tLGV15\n",
              "\n",
              "[526065 rows x 2 columns]"
            ]
          },
          "metadata": {
            "tags": []
          },
          "execution_count": 14
        }
      ]
    },
    {
      "cell_type": "code",
      "metadata": {
        "colab": {
          "base_uri": "https://localhost:8080/",
          "height": 521
        },
        "id": "KVdHrCWo77Vk",
        "outputId": "411152be-56d8-4eae-cd87-4c8eedb06845"
      },
      "source": [
        "training_df['interaction'] = 1\n",
        "training_df"
      ],
      "execution_count": 15,
      "outputs": [
        {
          "output_type": "stream",
          "text": [
            "/usr/local/lib/python3.7/dist-packages/ipykernel_launcher.py:1: SettingWithCopyWarning: \n",
            "A value is trying to be set on a copy of a slice from a DataFrame.\n",
            "Try using .loc[row_indexer,col_indexer] = value instead\n",
            "\n",
            "See the caveats in the documentation: https://pandas.pydata.org/pandas-docs/stable/user_guide/indexing.html#returning-a-view-versus-a-copy\n",
            "  \"\"\"Entry point for launching an IPython kernel.\n"
          ],
          "name": "stderr"
        },
        {
          "output_type": "execute_result",
          "data": {
            "text/html": [
              "<div>\n",
              "<style scoped>\n",
              "    .dataframe tbody tr th:only-of-type {\n",
              "        vertical-align: middle;\n",
              "    }\n",
              "\n",
              "    .dataframe tbody tr th {\n",
              "        vertical-align: top;\n",
              "    }\n",
              "\n",
              "    .dataframe thead th {\n",
              "        text-align: right;\n",
              "    }\n",
              "</style>\n",
              "<table border=\"1\" class=\"dataframe\">\n",
              "  <thead>\n",
              "    <tr style=\"text-align: right;\">\n",
              "      <th></th>\n",
              "      <th>pid</th>\n",
              "      <th>track_uri</th>\n",
              "      <th>interaction</th>\n",
              "    </tr>\n",
              "  </thead>\n",
              "  <tbody>\n",
              "    <tr>\n",
              "      <th>0</th>\n",
              "      <td>0</td>\n",
              "      <td>spotify:track:0UaMYEvWZi0ZqiDOoHU3YI</td>\n",
              "      <td>1</td>\n",
              "    </tr>\n",
              "    <tr>\n",
              "      <th>1</th>\n",
              "      <td>0</td>\n",
              "      <td>spotify:track:6I9VzXrHxO9rA9A5euc8Ak</td>\n",
              "      <td>1</td>\n",
              "    </tr>\n",
              "    <tr>\n",
              "      <th>2</th>\n",
              "      <td>0</td>\n",
              "      <td>spotify:track:0WqIKmW4BTrj3eJFmnCKMv</td>\n",
              "      <td>1</td>\n",
              "    </tr>\n",
              "    <tr>\n",
              "      <th>3</th>\n",
              "      <td>0</td>\n",
              "      <td>spotify:track:1AWQoqb9bSvzTjaLralEkT</td>\n",
              "      <td>1</td>\n",
              "    </tr>\n",
              "    <tr>\n",
              "      <th>4</th>\n",
              "      <td>0</td>\n",
              "      <td>spotify:track:1lzr43nnXAijIGYnCT8M8H</td>\n",
              "      <td>1</td>\n",
              "    </tr>\n",
              "    <tr>\n",
              "      <th>...</th>\n",
              "      <td>...</td>\n",
              "      <td>...</td>\n",
              "      <td>...</td>\n",
              "    </tr>\n",
              "    <tr>\n",
              "      <th>526060</th>\n",
              "      <td>9999</td>\n",
              "      <td>spotify:track:6ZOPiKQeibCn7fP8dncucL</td>\n",
              "      <td>1</td>\n",
              "    </tr>\n",
              "    <tr>\n",
              "      <th>526061</th>\n",
              "      <td>9999</td>\n",
              "      <td>spotify:track:7pxhKtuTwofDIdgHx2DcVK</td>\n",
              "      <td>1</td>\n",
              "    </tr>\n",
              "    <tr>\n",
              "      <th>526062</th>\n",
              "      <td>9999</td>\n",
              "      <td>spotify:track:7mldq42yDuxiUNn08nvzHO</td>\n",
              "      <td>1</td>\n",
              "    </tr>\n",
              "    <tr>\n",
              "      <th>526063</th>\n",
              "      <td>9999</td>\n",
              "      <td>spotify:track:23TxRN09aR1RB0G0tFoT0b</td>\n",
              "      <td>1</td>\n",
              "    </tr>\n",
              "    <tr>\n",
              "      <th>526064</th>\n",
              "      <td>9999</td>\n",
              "      <td>spotify:track:2TAcwD5KcV9uY3O1tLGV15</td>\n",
              "      <td>1</td>\n",
              "    </tr>\n",
              "  </tbody>\n",
              "</table>\n",
              "<p>526065 rows × 3 columns</p>\n",
              "</div>"
            ],
            "text/plain": [
              "         pid                             track_uri  interaction\n",
              "0          0  spotify:track:0UaMYEvWZi0ZqiDOoHU3YI            1\n",
              "1          0  spotify:track:6I9VzXrHxO9rA9A5euc8Ak            1\n",
              "2          0  spotify:track:0WqIKmW4BTrj3eJFmnCKMv            1\n",
              "3          0  spotify:track:1AWQoqb9bSvzTjaLralEkT            1\n",
              "4          0  spotify:track:1lzr43nnXAijIGYnCT8M8H            1\n",
              "...      ...                                   ...          ...\n",
              "526060  9999  spotify:track:6ZOPiKQeibCn7fP8dncucL            1\n",
              "526061  9999  spotify:track:7pxhKtuTwofDIdgHx2DcVK            1\n",
              "526062  9999  spotify:track:7mldq42yDuxiUNn08nvzHO            1\n",
              "526063  9999  spotify:track:23TxRN09aR1RB0G0tFoT0b            1\n",
              "526064  9999  spotify:track:2TAcwD5KcV9uY3O1tLGV15            1\n",
              "\n",
              "[526065 rows x 3 columns]"
            ]
          },
          "metadata": {
            "tags": []
          },
          "execution_count": 15
        }
      ]
    },
    {
      "cell_type": "code",
      "metadata": {
        "id": "TJ5aUgwG-OP0"
      },
      "source": [
        "# unique songs in all songs\n",
        "all_unique_songs = training_df['track_uri'].unique()"
      ],
      "execution_count": 16,
      "outputs": []
    },
    {
      "cell_type": "code",
      "metadata": {
        "colab": {
          "base_uri": "https://localhost:8080/"
        },
        "id": "ShrjPVpR-fQo",
        "outputId": "d36d0382-442a-42c7-a27a-34dc47838145"
      },
      "source": [
        "print(\"Although we have {} tracks in all playlists we include, there are {} unique tracks.\".format(training_df.shape[0], len(all_unique_songs)))"
      ],
      "execution_count": 17,
      "outputs": [
        {
          "output_type": "stream",
          "text": [
            "Although we have 526065 tracks in all playlists we include, there are 146399 unique tracks.\n"
          ],
          "name": "stdout"
        }
      ]
    },
    {
      "cell_type": "code",
      "metadata": {
        "id": "UdQ-QDgdJy0C"
      },
      "source": [
        "def get_negative_samples(training_df, all_unique_songs, number_of_neg_sample):\n",
        "\n",
        "  \"\"\"\n",
        "  number_of_neg_sample : number of negative samples will be added for each playlist,\n",
        "                         or assign 'same' to add negative samples as much as number of positive samples for each playlist.\n",
        "  \"\"\"\n",
        "\n",
        "  all_neg_samples_list = []\n",
        "  all_pids = training_df['pid'].unique()\n",
        "\n",
        "  for playlist_id in tqdm(all_pids, position=0, leave=True):\n",
        "\n",
        "    # tracks in corresponding playlist\n",
        "    tracks_in_playlist = training_df[training_df.pid == playlist_id].track_uri.values\n",
        "\n",
        "    # take the difference between all unique songs and songs in the playlist to get possible neg samples \n",
        "    possible_neg_samples =  np.array(list( set(all_unique_songs) - set(tracks_in_playlist) ))\n",
        "\n",
        "    # get indices of n neg random samples\n",
        "    random_neg_sample_indices = np.random.randint(0, len(possible_neg_samples), size=(number_of_neg_sample,))\n",
        "\n",
        "    # get n neg random samples\n",
        "    neg_samples_for_a_playlist = possible_neg_samples[random_neg_sample_indices]\n",
        "\n",
        "    for a_track in neg_samples_for_a_playlist:\n",
        "      all_neg_samples_list.append([playlist_id, a_track])\n",
        "\n",
        "  all_neg_samples_df = pd.DataFrame(data = all_neg_samples_list, columns=['pid', 'track_uri'])\n",
        "  all_neg_samples_df['interaction'] = 0\n",
        "\n",
        "  return all_neg_samples_df"
      ],
      "execution_count": 18,
      "outputs": []
    },
    {
      "cell_type": "code",
      "metadata": {
        "colab": {
          "base_uri": "https://localhost:8080/"
        },
        "id": "BZAVCBocR2sb",
        "outputId": "0974598a-dd8f-4820-8e2c-5dbedb84868d"
      },
      "source": [
        "neg_samples_df = get_negative_samples(training_df, all_unique_songs, number_of_neg_sample=20)"
      ],
      "execution_count": 19,
      "outputs": [
        {
          "output_type": "stream",
          "text": [
            "100%|██████████| 4907/4907 [06:26<00:00, 12.69it/s]\n"
          ],
          "name": "stderr"
        }
      ]
    },
    {
      "cell_type": "code",
      "metadata": {
        "id": "YehKY48Ff2Je"
      },
      "source": [
        "training_df = pd.concat([training_df, neg_samples_df])"
      ],
      "execution_count": 20,
      "outputs": []
    },
    {
      "cell_type": "code",
      "metadata": {
        "id": "Mhy35cbxgPIl"
      },
      "source": [
        "training_df.sort_values(['pid', 'interaction'], ascending=[True, False], inplace=True)"
      ],
      "execution_count": 21,
      "outputs": []
    },
    {
      "cell_type": "code",
      "metadata": {
        "id": "2Xf8QOugrE51"
      },
      "source": [
        "training_df.reset_index(drop=True, inplace=True)"
      ],
      "execution_count": 22,
      "outputs": []
    },
    {
      "cell_type": "code",
      "metadata": {
        "colab": {
          "base_uri": "https://localhost:8080/",
          "height": 419
        },
        "id": "VuSzIBUVKnPF",
        "outputId": "955e5f81-6fd7-4996-c472-2fff1a566a4e"
      },
      "source": [
        "training_df"
      ],
      "execution_count": 23,
      "outputs": [
        {
          "output_type": "execute_result",
          "data": {
            "text/html": [
              "<div>\n",
              "<style scoped>\n",
              "    .dataframe tbody tr th:only-of-type {\n",
              "        vertical-align: middle;\n",
              "    }\n",
              "\n",
              "    .dataframe tbody tr th {\n",
              "        vertical-align: top;\n",
              "    }\n",
              "\n",
              "    .dataframe thead th {\n",
              "        text-align: right;\n",
              "    }\n",
              "</style>\n",
              "<table border=\"1\" class=\"dataframe\">\n",
              "  <thead>\n",
              "    <tr style=\"text-align: right;\">\n",
              "      <th></th>\n",
              "      <th>pid</th>\n",
              "      <th>track_uri</th>\n",
              "      <th>interaction</th>\n",
              "    </tr>\n",
              "  </thead>\n",
              "  <tbody>\n",
              "    <tr>\n",
              "      <th>0</th>\n",
              "      <td>0</td>\n",
              "      <td>spotify:track:0UaMYEvWZi0ZqiDOoHU3YI</td>\n",
              "      <td>1</td>\n",
              "    </tr>\n",
              "    <tr>\n",
              "      <th>1</th>\n",
              "      <td>0</td>\n",
              "      <td>spotify:track:6I9VzXrHxO9rA9A5euc8Ak</td>\n",
              "      <td>1</td>\n",
              "    </tr>\n",
              "    <tr>\n",
              "      <th>2</th>\n",
              "      <td>0</td>\n",
              "      <td>spotify:track:0WqIKmW4BTrj3eJFmnCKMv</td>\n",
              "      <td>1</td>\n",
              "    </tr>\n",
              "    <tr>\n",
              "      <th>3</th>\n",
              "      <td>0</td>\n",
              "      <td>spotify:track:1AWQoqb9bSvzTjaLralEkT</td>\n",
              "      <td>1</td>\n",
              "    </tr>\n",
              "    <tr>\n",
              "      <th>4</th>\n",
              "      <td>0</td>\n",
              "      <td>spotify:track:1lzr43nnXAijIGYnCT8M8H</td>\n",
              "      <td>1</td>\n",
              "    </tr>\n",
              "    <tr>\n",
              "      <th>...</th>\n",
              "      <td>...</td>\n",
              "      <td>...</td>\n",
              "      <td>...</td>\n",
              "    </tr>\n",
              "    <tr>\n",
              "      <th>624200</th>\n",
              "      <td>9999</td>\n",
              "      <td>spotify:track:1iQJ8eNglGldMTZnN6DGvq</td>\n",
              "      <td>0</td>\n",
              "    </tr>\n",
              "    <tr>\n",
              "      <th>624201</th>\n",
              "      <td>9999</td>\n",
              "      <td>spotify:track:5OzlfXT5ZKAjuBfvXqaZQm</td>\n",
              "      <td>0</td>\n",
              "    </tr>\n",
              "    <tr>\n",
              "      <th>624202</th>\n",
              "      <td>9999</td>\n",
              "      <td>spotify:track:0WSv8FOuqHmi659cunJGIn</td>\n",
              "      <td>0</td>\n",
              "    </tr>\n",
              "    <tr>\n",
              "      <th>624203</th>\n",
              "      <td>9999</td>\n",
              "      <td>spotify:track:5QSKjxDRVRpd6BeHMv2ZM0</td>\n",
              "      <td>0</td>\n",
              "    </tr>\n",
              "    <tr>\n",
              "      <th>624204</th>\n",
              "      <td>9999</td>\n",
              "      <td>spotify:track:4lxgTVWXLGNnnjWPyPGJAR</td>\n",
              "      <td>0</td>\n",
              "    </tr>\n",
              "  </tbody>\n",
              "</table>\n",
              "<p>624205 rows × 3 columns</p>\n",
              "</div>"
            ],
            "text/plain": [
              "         pid                             track_uri  interaction\n",
              "0          0  spotify:track:0UaMYEvWZi0ZqiDOoHU3YI            1\n",
              "1          0  spotify:track:6I9VzXrHxO9rA9A5euc8Ak            1\n",
              "2          0  spotify:track:0WqIKmW4BTrj3eJFmnCKMv            1\n",
              "3          0  spotify:track:1AWQoqb9bSvzTjaLralEkT            1\n",
              "4          0  spotify:track:1lzr43nnXAijIGYnCT8M8H            1\n",
              "...      ...                                   ...          ...\n",
              "624200  9999  spotify:track:1iQJ8eNglGldMTZnN6DGvq            0\n",
              "624201  9999  spotify:track:5OzlfXT5ZKAjuBfvXqaZQm            0\n",
              "624202  9999  spotify:track:0WSv8FOuqHmi659cunJGIn            0\n",
              "624203  9999  spotify:track:5QSKjxDRVRpd6BeHMv2ZM0            0\n",
              "624204  9999  spotify:track:4lxgTVWXLGNnnjWPyPGJAR            0\n",
              "\n",
              "[624205 rows x 3 columns]"
            ]
          },
          "metadata": {
            "tags": []
          },
          "execution_count": 23
        }
      ]
    },
    {
      "cell_type": "code",
      "metadata": {
        "id": "qv4JtRD5HzMm"
      },
      "source": [
        "le = LabelEncoder()\n",
        "le.fit(training_df.track_uri)\n",
        "training_df['track_id'] = le.transform(training_df.track_uri)"
      ],
      "execution_count": 24,
      "outputs": []
    },
    {
      "cell_type": "code",
      "metadata": {
        "id": "3veS6H0JKt_R"
      },
      "source": [
        "le_pid = LabelEncoder()\n",
        "le_pid.fit(training_df.pid)\n",
        "training_df['playlist_id'] = le_pid.transform(training_df.pid)"
      ],
      "execution_count": 25,
      "outputs": []
    },
    {
      "cell_type": "code",
      "metadata": {
        "colab": {
          "base_uri": "https://localhost:8080/",
          "height": 419
        },
        "id": "et6PpNgeKuBg",
        "outputId": "9aad616f-ca4f-4041-f1ae-a3bfb8452c31"
      },
      "source": [
        "training_df"
      ],
      "execution_count": 26,
      "outputs": [
        {
          "output_type": "execute_result",
          "data": {
            "text/html": [
              "<div>\n",
              "<style scoped>\n",
              "    .dataframe tbody tr th:only-of-type {\n",
              "        vertical-align: middle;\n",
              "    }\n",
              "\n",
              "    .dataframe tbody tr th {\n",
              "        vertical-align: top;\n",
              "    }\n",
              "\n",
              "    .dataframe thead th {\n",
              "        text-align: right;\n",
              "    }\n",
              "</style>\n",
              "<table border=\"1\" class=\"dataframe\">\n",
              "  <thead>\n",
              "    <tr style=\"text-align: right;\">\n",
              "      <th></th>\n",
              "      <th>pid</th>\n",
              "      <th>track_uri</th>\n",
              "      <th>interaction</th>\n",
              "      <th>track_id</th>\n",
              "      <th>playlist_id</th>\n",
              "    </tr>\n",
              "  </thead>\n",
              "  <tbody>\n",
              "    <tr>\n",
              "      <th>0</th>\n",
              "      <td>0</td>\n",
              "      <td>spotify:track:0UaMYEvWZi0ZqiDOoHU3YI</td>\n",
              "      <td>1</td>\n",
              "      <td>9427</td>\n",
              "      <td>0</td>\n",
              "    </tr>\n",
              "    <tr>\n",
              "      <th>1</th>\n",
              "      <td>0</td>\n",
              "      <td>spotify:track:6I9VzXrHxO9rA9A5euc8Ak</td>\n",
              "      <td>1</td>\n",
              "      <td>118356</td>\n",
              "      <td>0</td>\n",
              "    </tr>\n",
              "    <tr>\n",
              "      <th>2</th>\n",
              "      <td>0</td>\n",
              "      <td>spotify:track:0WqIKmW4BTrj3eJFmnCKMv</td>\n",
              "      <td>1</td>\n",
              "      <td>10109</td>\n",
              "      <td>0</td>\n",
              "    </tr>\n",
              "    <tr>\n",
              "      <th>3</th>\n",
              "      <td>0</td>\n",
              "      <td>spotify:track:1AWQoqb9bSvzTjaLralEkT</td>\n",
              "      <td>1</td>\n",
              "      <td>22175</td>\n",
              "      <td>0</td>\n",
              "    </tr>\n",
              "    <tr>\n",
              "      <th>4</th>\n",
              "      <td>0</td>\n",
              "      <td>spotify:track:1lzr43nnXAijIGYnCT8M8H</td>\n",
              "      <td>1</td>\n",
              "      <td>33472</td>\n",
              "      <td>0</td>\n",
              "    </tr>\n",
              "    <tr>\n",
              "      <th>...</th>\n",
              "      <td>...</td>\n",
              "      <td>...</td>\n",
              "      <td>...</td>\n",
              "      <td>...</td>\n",
              "      <td>...</td>\n",
              "    </tr>\n",
              "    <tr>\n",
              "      <th>624200</th>\n",
              "      <td>9999</td>\n",
              "      <td>spotify:track:1iQJ8eNglGldMTZnN6DGvq</td>\n",
              "      <td>0</td>\n",
              "      <td>32402</td>\n",
              "      <td>4906</td>\n",
              "    </tr>\n",
              "    <tr>\n",
              "      <th>624201</th>\n",
              "      <td>9999</td>\n",
              "      <td>spotify:track:5OzlfXT5ZKAjuBfvXqaZQm</td>\n",
              "      <td>0</td>\n",
              "      <td>101691</td>\n",
              "      <td>4906</td>\n",
              "    </tr>\n",
              "    <tr>\n",
              "      <th>624202</th>\n",
              "      <td>9999</td>\n",
              "      <td>spotify:track:0WSv8FOuqHmi659cunJGIn</td>\n",
              "      <td>0</td>\n",
              "      <td>9982</td>\n",
              "      <td>4906</td>\n",
              "    </tr>\n",
              "    <tr>\n",
              "      <th>624203</th>\n",
              "      <td>9999</td>\n",
              "      <td>spotify:track:5QSKjxDRVRpd6BeHMv2ZM0</td>\n",
              "      <td>0</td>\n",
              "      <td>102117</td>\n",
              "      <td>4906</td>\n",
              "    </tr>\n",
              "    <tr>\n",
              "      <th>624204</th>\n",
              "      <td>9999</td>\n",
              "      <td>spotify:track:4lxgTVWXLGNnnjWPyPGJAR</td>\n",
              "      <td>0</td>\n",
              "      <td>89910</td>\n",
              "      <td>4906</td>\n",
              "    </tr>\n",
              "  </tbody>\n",
              "</table>\n",
              "<p>624205 rows × 5 columns</p>\n",
              "</div>"
            ],
            "text/plain": [
              "         pid                             track_uri  ...  track_id  playlist_id\n",
              "0          0  spotify:track:0UaMYEvWZi0ZqiDOoHU3YI  ...      9427            0\n",
              "1          0  spotify:track:6I9VzXrHxO9rA9A5euc8Ak  ...    118356            0\n",
              "2          0  spotify:track:0WqIKmW4BTrj3eJFmnCKMv  ...     10109            0\n",
              "3          0  spotify:track:1AWQoqb9bSvzTjaLralEkT  ...     22175            0\n",
              "4          0  spotify:track:1lzr43nnXAijIGYnCT8M8H  ...     33472            0\n",
              "...      ...                                   ...  ...       ...          ...\n",
              "624200  9999  spotify:track:1iQJ8eNglGldMTZnN6DGvq  ...     32402         4906\n",
              "624201  9999  spotify:track:5OzlfXT5ZKAjuBfvXqaZQm  ...    101691         4906\n",
              "624202  9999  spotify:track:0WSv8FOuqHmi659cunJGIn  ...      9982         4906\n",
              "624203  9999  spotify:track:5QSKjxDRVRpd6BeHMv2ZM0  ...    102117         4906\n",
              "624204  9999  spotify:track:4lxgTVWXLGNnnjWPyPGJAR  ...     89910         4906\n",
              "\n",
              "[624205 rows x 5 columns]"
            ]
          },
          "metadata": {
            "tags": []
          },
          "execution_count": 26
        }
      ]
    },
    {
      "cell_type": "markdown",
      "metadata": {
        "id": "0eJYW4TriZF1"
      },
      "source": [
        "#### Preparing test data"
      ]
    },
    {
      "cell_type": "code",
      "metadata": {
        "id": "NmRjbQqxjQun"
      },
      "source": [
        "def get_test_samples(training_df, number_of_test_sample):\n",
        "\n",
        "  \"\"\"\n",
        "  number_of_neg_sample : number of test samples will be selected for each playlist\n",
        "\n",
        "  \"\"\"\n",
        "\n",
        "  all_test_samples_indices = []\n",
        "  all_pids = training_df['pid'].unique()\n",
        "\n",
        "  for playlist_id in tqdm(all_pids, position=0, leave=True):\n",
        "\n",
        "    # indices of tracks in corresponding playlist\n",
        "    track_indices = training_df[(training_df.pid == playlist_id) & (training_df.interaction == 1)].index.values\n",
        "\n",
        "    # randomly select n track\n",
        "    random_indices = np.random.randint(0, len(track_indices), size=(number_of_test_sample,))\n",
        "    test_samples_ind_for_a_playlist = track_indices[random_indices]\n",
        "\n",
        "    for test_sample_ind in test_samples_ind_for_a_playlist:\n",
        "      all_test_samples_indices.append(test_sample_ind)\n",
        "\n",
        "  return all_test_samples_indices"
      ],
      "execution_count": 27,
      "outputs": []
    },
    {
      "cell_type": "code",
      "metadata": {
        "colab": {
          "base_uri": "https://localhost:8080/"
        },
        "id": "959lol89ipZM",
        "outputId": "9680e3ad-c65b-4bdb-9b86-230c5876104a"
      },
      "source": [
        "test_sample_indices = get_test_samples(training_df, number_of_test_sample=1)"
      ],
      "execution_count": 28,
      "outputs": [
        {
          "output_type": "stream",
          "text": [
            "100%|██████████| 4907/4907 [00:13<00:00, 374.43it/s]\n"
          ],
          "name": "stderr"
        }
      ]
    },
    {
      "cell_type": "code",
      "metadata": {
        "id": "_8vGcXUGmpnn"
      },
      "source": [
        "test_df = training_df.iloc[test_sample_indices,:]\n",
        "test_df.reset_index(drop=True, inplace=True)"
      ],
      "execution_count": 30,
      "outputs": []
    },
    {
      "cell_type": "code",
      "metadata": {
        "id": "gv50idIQnQ9O"
      },
      "source": [
        "training_df = training_df.drop(test_sample_indices)\n",
        "training_df.reset_index(drop=True, inplace=True)"
      ],
      "execution_count": 32,
      "outputs": []
    },
    {
      "cell_type": "code",
      "metadata": {
        "id": "eeYdf9PHnxsj"
      },
      "source": [
        "training_df.to_csv('training_df.csv', index=False) \n",
        "test_df.to_csv('test_df.csv', index=False) "
      ],
      "execution_count": 38,
      "outputs": []
    },
    {
      "cell_type": "markdown",
      "metadata": {
        "id": "nVItp3HNgKXc"
      },
      "source": [
        "---"
      ]
    },
    {
      "cell_type": "markdown",
      "metadata": {
        "id": "ktb0bCcvwv_u"
      },
      "source": [
        "Use to load back training and test dataframes"
      ]
    },
    {
      "cell_type": "code",
      "metadata": {
        "id": "TX9qM4e-eycz"
      },
      "source": [
        "training_df = pd.read_csv('training_df.csv')\n",
        "test_df = pd.read_csv('test_df.csv')"
      ],
      "execution_count": 4,
      "outputs": []
    },
    {
      "cell_type": "code",
      "metadata": {
        "colab": {
          "base_uri": "https://localhost:8080/",
          "height": 419
        },
        "id": "M214FU7ze4NY",
        "outputId": "957270e7-b7d1-40c6-f870-5929f586a53c"
      },
      "source": [
        "training_df"
      ],
      "execution_count": 41,
      "outputs": [
        {
          "output_type": "execute_result",
          "data": {
            "text/html": [
              "<div>\n",
              "<style scoped>\n",
              "    .dataframe tbody tr th:only-of-type {\n",
              "        vertical-align: middle;\n",
              "    }\n",
              "\n",
              "    .dataframe tbody tr th {\n",
              "        vertical-align: top;\n",
              "    }\n",
              "\n",
              "    .dataframe thead th {\n",
              "        text-align: right;\n",
              "    }\n",
              "</style>\n",
              "<table border=\"1\" class=\"dataframe\">\n",
              "  <thead>\n",
              "    <tr style=\"text-align: right;\">\n",
              "      <th></th>\n",
              "      <th>pid</th>\n",
              "      <th>track_uri</th>\n",
              "      <th>interaction</th>\n",
              "      <th>track_id</th>\n",
              "      <th>playlist_id</th>\n",
              "    </tr>\n",
              "  </thead>\n",
              "  <tbody>\n",
              "    <tr>\n",
              "      <th>0</th>\n",
              "      <td>0</td>\n",
              "      <td>spotify:track:0UaMYEvWZi0ZqiDOoHU3YI</td>\n",
              "      <td>1</td>\n",
              "      <td>9427</td>\n",
              "      <td>0</td>\n",
              "    </tr>\n",
              "    <tr>\n",
              "      <th>1</th>\n",
              "      <td>0</td>\n",
              "      <td>spotify:track:6I9VzXrHxO9rA9A5euc8Ak</td>\n",
              "      <td>1</td>\n",
              "      <td>118356</td>\n",
              "      <td>0</td>\n",
              "    </tr>\n",
              "    <tr>\n",
              "      <th>2</th>\n",
              "      <td>0</td>\n",
              "      <td>spotify:track:0WqIKmW4BTrj3eJFmnCKMv</td>\n",
              "      <td>1</td>\n",
              "      <td>10109</td>\n",
              "      <td>0</td>\n",
              "    </tr>\n",
              "    <tr>\n",
              "      <th>3</th>\n",
              "      <td>0</td>\n",
              "      <td>spotify:track:1AWQoqb9bSvzTjaLralEkT</td>\n",
              "      <td>1</td>\n",
              "      <td>22175</td>\n",
              "      <td>0</td>\n",
              "    </tr>\n",
              "    <tr>\n",
              "      <th>4</th>\n",
              "      <td>0</td>\n",
              "      <td>spotify:track:1lzr43nnXAijIGYnCT8M8H</td>\n",
              "      <td>1</td>\n",
              "      <td>33472</td>\n",
              "      <td>0</td>\n",
              "    </tr>\n",
              "    <tr>\n",
              "      <th>...</th>\n",
              "      <td>...</td>\n",
              "      <td>...</td>\n",
              "      <td>...</td>\n",
              "      <td>...</td>\n",
              "      <td>...</td>\n",
              "    </tr>\n",
              "    <tr>\n",
              "      <th>619293</th>\n",
              "      <td>9999</td>\n",
              "      <td>spotify:track:1iQJ8eNglGldMTZnN6DGvq</td>\n",
              "      <td>0</td>\n",
              "      <td>32402</td>\n",
              "      <td>4906</td>\n",
              "    </tr>\n",
              "    <tr>\n",
              "      <th>619294</th>\n",
              "      <td>9999</td>\n",
              "      <td>spotify:track:5OzlfXT5ZKAjuBfvXqaZQm</td>\n",
              "      <td>0</td>\n",
              "      <td>101691</td>\n",
              "      <td>4906</td>\n",
              "    </tr>\n",
              "    <tr>\n",
              "      <th>619295</th>\n",
              "      <td>9999</td>\n",
              "      <td>spotify:track:0WSv8FOuqHmi659cunJGIn</td>\n",
              "      <td>0</td>\n",
              "      <td>9982</td>\n",
              "      <td>4906</td>\n",
              "    </tr>\n",
              "    <tr>\n",
              "      <th>619296</th>\n",
              "      <td>9999</td>\n",
              "      <td>spotify:track:5QSKjxDRVRpd6BeHMv2ZM0</td>\n",
              "      <td>0</td>\n",
              "      <td>102117</td>\n",
              "      <td>4906</td>\n",
              "    </tr>\n",
              "    <tr>\n",
              "      <th>619297</th>\n",
              "      <td>9999</td>\n",
              "      <td>spotify:track:4lxgTVWXLGNnnjWPyPGJAR</td>\n",
              "      <td>0</td>\n",
              "      <td>89910</td>\n",
              "      <td>4906</td>\n",
              "    </tr>\n",
              "  </tbody>\n",
              "</table>\n",
              "<p>619298 rows × 5 columns</p>\n",
              "</div>"
            ],
            "text/plain": [
              "         pid                             track_uri  ...  track_id  playlist_id\n",
              "0          0  spotify:track:0UaMYEvWZi0ZqiDOoHU3YI  ...      9427            0\n",
              "1          0  spotify:track:6I9VzXrHxO9rA9A5euc8Ak  ...    118356            0\n",
              "2          0  spotify:track:0WqIKmW4BTrj3eJFmnCKMv  ...     10109            0\n",
              "3          0  spotify:track:1AWQoqb9bSvzTjaLralEkT  ...     22175            0\n",
              "4          0  spotify:track:1lzr43nnXAijIGYnCT8M8H  ...     33472            0\n",
              "...      ...                                   ...  ...       ...          ...\n",
              "619293  9999  spotify:track:1iQJ8eNglGldMTZnN6DGvq  ...     32402         4906\n",
              "619294  9999  spotify:track:5OzlfXT5ZKAjuBfvXqaZQm  ...    101691         4906\n",
              "619295  9999  spotify:track:0WSv8FOuqHmi659cunJGIn  ...      9982         4906\n",
              "619296  9999  spotify:track:5QSKjxDRVRpd6BeHMv2ZM0  ...    102117         4906\n",
              "619297  9999  spotify:track:4lxgTVWXLGNnnjWPyPGJAR  ...     89910         4906\n",
              "\n",
              "[619298 rows x 5 columns]"
            ]
          },
          "metadata": {
            "tags": []
          },
          "execution_count": 41
        }
      ]
    },
    {
      "cell_type": "code",
      "metadata": {
        "colab": {
          "base_uri": "https://localhost:8080/",
          "height": 419
        },
        "id": "x2e7W1Ur4vVk",
        "outputId": "51357574-e8d2-4baf-e416-77f9b6060c00"
      },
      "source": [
        "test_df"
      ],
      "execution_count": 42,
      "outputs": [
        {
          "output_type": "execute_result",
          "data": {
            "text/html": [
              "<div>\n",
              "<style scoped>\n",
              "    .dataframe tbody tr th:only-of-type {\n",
              "        vertical-align: middle;\n",
              "    }\n",
              "\n",
              "    .dataframe tbody tr th {\n",
              "        vertical-align: top;\n",
              "    }\n",
              "\n",
              "    .dataframe thead th {\n",
              "        text-align: right;\n",
              "    }\n",
              "</style>\n",
              "<table border=\"1\" class=\"dataframe\">\n",
              "  <thead>\n",
              "    <tr style=\"text-align: right;\">\n",
              "      <th></th>\n",
              "      <th>pid</th>\n",
              "      <th>track_uri</th>\n",
              "      <th>interaction</th>\n",
              "      <th>track_id</th>\n",
              "      <th>playlist_id</th>\n",
              "    </tr>\n",
              "  </thead>\n",
              "  <tbody>\n",
              "    <tr>\n",
              "      <th>0</th>\n",
              "      <td>0</td>\n",
              "      <td>spotify:track:6d8A5sAx9TfdeseDvfWNHd</td>\n",
              "      <td>1</td>\n",
              "      <td>124641</td>\n",
              "      <td>0</td>\n",
              "    </tr>\n",
              "    <tr>\n",
              "      <th>1</th>\n",
              "      <td>2</td>\n",
              "      <td>spotify:track:6ToAD7ajJidQTDn72OncDG</td>\n",
              "      <td>1</td>\n",
              "      <td>121855</td>\n",
              "      <td>1</td>\n",
              "    </tr>\n",
              "    <tr>\n",
              "      <th>2</th>\n",
              "      <td>3</td>\n",
              "      <td>spotify:track:1Kzxd1kkjaGX4JZz2CYsXB</td>\n",
              "      <td>1</td>\n",
              "      <td>25395</td>\n",
              "      <td>2</td>\n",
              "    </tr>\n",
              "    <tr>\n",
              "      <th>3</th>\n",
              "      <td>5</td>\n",
              "      <td>spotify:track:6e8Ou0wiqAzIpWb2eSxll8</td>\n",
              "      <td>1</td>\n",
              "      <td>124937</td>\n",
              "      <td>3</td>\n",
              "    </tr>\n",
              "    <tr>\n",
              "      <th>4</th>\n",
              "      <td>7</td>\n",
              "      <td>spotify:track:0UE0RhnRaEYsiYgXpyLoZc</td>\n",
              "      <td>1</td>\n",
              "      <td>9327</td>\n",
              "      <td>4</td>\n",
              "    </tr>\n",
              "    <tr>\n",
              "      <th>...</th>\n",
              "      <td>...</td>\n",
              "      <td>...</td>\n",
              "      <td>...</td>\n",
              "      <td>...</td>\n",
              "      <td>...</td>\n",
              "    </tr>\n",
              "    <tr>\n",
              "      <th>4902</th>\n",
              "      <td>9992</td>\n",
              "      <td>spotify:track:6QgjcU0zLnzq5OrUoSZ3OK</td>\n",
              "      <td>1</td>\n",
              "      <td>120920</td>\n",
              "      <td>4902</td>\n",
              "    </tr>\n",
              "    <tr>\n",
              "      <th>4903</th>\n",
              "      <td>9993</td>\n",
              "      <td>spotify:track:5JBdJ82bsTGX4XHwDeJDHm</td>\n",
              "      <td>1</td>\n",
              "      <td>99919</td>\n",
              "      <td>4903</td>\n",
              "    </tr>\n",
              "    <tr>\n",
              "      <th>4904</th>\n",
              "      <td>9994</td>\n",
              "      <td>spotify:track:1U6riPmEZzICc3NVAlxihh</td>\n",
              "      <td>1</td>\n",
              "      <td>28069</td>\n",
              "      <td>4904</td>\n",
              "    </tr>\n",
              "    <tr>\n",
              "      <th>4905</th>\n",
              "      <td>9996</td>\n",
              "      <td>spotify:track:5APxd9Oameqe2EF2h5lDHI</td>\n",
              "      <td>1</td>\n",
              "      <td>97237</td>\n",
              "      <td>4905</td>\n",
              "    </tr>\n",
              "    <tr>\n",
              "      <th>4906</th>\n",
              "      <td>9999</td>\n",
              "      <td>spotify:track:6CJBd4HsltEeC9TiF3OqUO</td>\n",
              "      <td>1</td>\n",
              "      <td>116589</td>\n",
              "      <td>4906</td>\n",
              "    </tr>\n",
              "  </tbody>\n",
              "</table>\n",
              "<p>4907 rows × 5 columns</p>\n",
              "</div>"
            ],
            "text/plain": [
              "       pid                             track_uri  ...  track_id  playlist_id\n",
              "0        0  spotify:track:6d8A5sAx9TfdeseDvfWNHd  ...    124641            0\n",
              "1        2  spotify:track:6ToAD7ajJidQTDn72OncDG  ...    121855            1\n",
              "2        3  spotify:track:1Kzxd1kkjaGX4JZz2CYsXB  ...     25395            2\n",
              "3        5  spotify:track:6e8Ou0wiqAzIpWb2eSxll8  ...    124937            3\n",
              "4        7  spotify:track:0UE0RhnRaEYsiYgXpyLoZc  ...      9327            4\n",
              "...    ...                                   ...  ...       ...          ...\n",
              "4902  9992  spotify:track:6QgjcU0zLnzq5OrUoSZ3OK  ...    120920         4902\n",
              "4903  9993  spotify:track:5JBdJ82bsTGX4XHwDeJDHm  ...     99919         4903\n",
              "4904  9994  spotify:track:1U6riPmEZzICc3NVAlxihh  ...     28069         4904\n",
              "4905  9996  spotify:track:5APxd9Oameqe2EF2h5lDHI  ...     97237         4905\n",
              "4906  9999  spotify:track:6CJBd4HsltEeC9TiF3OqUO  ...    116589         4906\n",
              "\n",
              "[4907 rows x 5 columns]"
            ]
          },
          "metadata": {
            "tags": []
          },
          "execution_count": 42
        }
      ]
    },
    {
      "cell_type": "markdown",
      "metadata": {
        "id": "Js6bgQUvLlFi"
      },
      "source": [
        "---"
      ]
    },
    {
      "cell_type": "markdown",
      "metadata": {
        "id": "FekQ5sUyM2Vk"
      },
      "source": [
        "### Model"
      ]
    },
    {
      "cell_type": "code",
      "metadata": {
        "id": "IjD6zBXFLs8J"
      },
      "source": [
        "import keras\n",
        "from keras import backend as K\n",
        "from keras.models import Sequential, Model, load_model, save_model\n",
        "from keras.layers.core import Dense, Lambda, Activation\n",
        "from keras.layers import Embedding, Input, Dense, merge, Reshape, Flatten, Multiply\n",
        "from keras.optimizers import Adam\n",
        "from keras.regularizers import l2"
      ],
      "execution_count": 77,
      "outputs": []
    },
    {
      "cell_type": "code",
      "metadata": {
        "id": "jfDLptKJQg18"
      },
      "source": [
        "num_playlists = training_df.playlist_id.unique().max() + 1\n",
        "num_tracks = training_df.track_id.unique().max() + 1\n",
        "\n",
        "emb_vec_size_playlists = 16\n",
        "emb_vec_size_tracks = 16"
      ],
      "execution_count": 78,
      "outputs": []
    },
    {
      "cell_type": "code",
      "metadata": {
        "id": "CWUbdIblMdmZ"
      },
      "source": [
        "playlist_input = Input(shape=(1,), dtype='int32', name = 'playlist_input')\n",
        "track_input = Input(shape=(1,), dtype='int32', name = 'track_input')\n",
        "\n",
        "\n",
        "embedding_playlist = Embedding(input_dim = num_playlists, \n",
        "                               output_dim = emb_vec_size_playlists, \n",
        "                               name = 'playlist_embedding',\n",
        "                               input_length=1)\n",
        "\n",
        "\n",
        "embedding_track = Embedding(input_dim = num_tracks, \n",
        "                            output_dim = emb_vec_size_tracks, \n",
        "                            name = 'track_embedding',\n",
        "                            input_length=1) \n",
        "\n",
        "\n",
        "playlist_emb_vec = Flatten()(embedding_playlist(playlist_input))\n",
        "track_emb_vec = Flatten()(embedding_track(track_input))\n",
        "\n",
        "\n",
        "# Element-wise product of playlist and track embeddings \n",
        "predict_vector = Multiply()([playlist_emb_vec, track_emb_vec])\n",
        "\n",
        "prediction = Dense(1, activation='sigmoid', name = 'prediction')(predict_vector)\n",
        "\n",
        "model = Model(inputs=[playlist_input, track_input], outputs=prediction)"
      ],
      "execution_count": 79,
      "outputs": []
    },
    {
      "cell_type": "code",
      "metadata": {
        "colab": {
          "base_uri": "https://localhost:8080/"
        },
        "id": "aANFwkpk8M4y",
        "outputId": "fac2ef03-8b1c-4726-808c-8a6986fb54dc"
      },
      "source": [
        "model.summary()"
      ],
      "execution_count": 80,
      "outputs": [
        {
          "output_type": "stream",
          "text": [
            "Model: \"model_4\"\n",
            "__________________________________________________________________________________________________\n",
            "Layer (type)                    Output Shape         Param #     Connected to                     \n",
            "==================================================================================================\n",
            "playlist_input (InputLayer)     [(None, 1)]          0                                            \n",
            "__________________________________________________________________________________________________\n",
            "track_input (InputLayer)        [(None, 1)]          0                                            \n",
            "__________________________________________________________________________________________________\n",
            "playlist_embedding (Embedding)  (None, 1, 16)        78512       playlist_input[0][0]             \n",
            "__________________________________________________________________________________________________\n",
            "track_embedding (Embedding)     (None, 1, 16)        2342384     track_input[0][0]                \n",
            "__________________________________________________________________________________________________\n",
            "flatten_16 (Flatten)            (None, 16)           0           playlist_embedding[0][0]         \n",
            "__________________________________________________________________________________________________\n",
            "flatten_17 (Flatten)            (None, 16)           0           track_embedding[0][0]            \n",
            "__________________________________________________________________________________________________\n",
            "multiply_6 (Multiply)           (None, 16)           0           flatten_16[0][0]                 \n",
            "                                                                 flatten_17[0][0]                 \n",
            "__________________________________________________________________________________________________\n",
            "prediction (Dense)              (None, 1)            17          multiply_6[0][0]                 \n",
            "==================================================================================================\n",
            "Total params: 2,420,913\n",
            "Trainable params: 2,420,913\n",
            "Non-trainable params: 0\n",
            "__________________________________________________________________________________________________\n"
          ],
          "name": "stdout"
        }
      ]
    },
    {
      "cell_type": "code",
      "metadata": {
        "id": "BBbqnfUPCWpn"
      },
      "source": [
        "model.compile(optimizer=Adam(lr=1e-3), loss='binary_crossentropy', metrics=['accuracy'])"
      ],
      "execution_count": 81,
      "outputs": []
    },
    {
      "cell_type": "code",
      "metadata": {
        "colab": {
          "base_uri": "https://localhost:8080/"
        },
        "id": "kys7Hs01C7sR",
        "outputId": "945765d8-ac5b-4a8d-a74b-65a1b3acd84f"
      },
      "source": [
        "hist = model.fit([training_df.playlist_id.values, training_df.track_id.values],\n",
        "                  training_df.interaction.values,\n",
        "                  validation_split=0.15, \n",
        "                  batch_size=256, \n",
        "                  epochs=3, \n",
        "                  shuffle=True)"
      ],
      "execution_count": 82,
      "outputs": [
        {
          "output_type": "stream",
          "text": [
            "Epoch 1/3\n",
            "2057/2057 [==============================] - 44s 21ms/step - loss: 0.5775 - accuracy: 0.8406 - val_loss: 0.4613 - val_accuracy: 0.8364\n",
            "Epoch 2/3\n",
            "2057/2057 [==============================] - 43s 21ms/step - loss: 0.3208 - accuracy: 0.8443 - val_loss: 0.5126 - val_accuracy: 0.8364\n",
            "Epoch 3/3\n",
            "2057/2057 [==============================] - 43s 21ms/step - loss: 0.1663 - accuracy: 0.9477 - val_loss: 0.5873 - val_accuracy: 0.8205\n"
          ],
          "name": "stdout"
        }
      ]
    },
    {
      "cell_type": "markdown",
      "metadata": {
        "id": "GoP6nsHDxvYR"
      },
      "source": [
        "### Evaluation"
      ]
    },
    {
      "cell_type": "code",
      "metadata": {
        "colab": {
          "base_uri": "https://localhost:8080/",
          "height": 419
        },
        "id": "yZp1MFnOx21o",
        "outputId": "8f0da740-f99d-4f25-b4b7-75f583abdc39"
      },
      "source": [
        "test_df"
      ],
      "execution_count": 345,
      "outputs": [
        {
          "output_type": "execute_result",
          "data": {
            "text/html": [
              "<div>\n",
              "<style scoped>\n",
              "    .dataframe tbody tr th:only-of-type {\n",
              "        vertical-align: middle;\n",
              "    }\n",
              "\n",
              "    .dataframe tbody tr th {\n",
              "        vertical-align: top;\n",
              "    }\n",
              "\n",
              "    .dataframe thead th {\n",
              "        text-align: right;\n",
              "    }\n",
              "</style>\n",
              "<table border=\"1\" class=\"dataframe\">\n",
              "  <thead>\n",
              "    <tr style=\"text-align: right;\">\n",
              "      <th></th>\n",
              "      <th>pid</th>\n",
              "      <th>track_uri</th>\n",
              "      <th>interaction</th>\n",
              "      <th>track_id</th>\n",
              "      <th>playlist_id</th>\n",
              "    </tr>\n",
              "  </thead>\n",
              "  <tbody>\n",
              "    <tr>\n",
              "      <th>0</th>\n",
              "      <td>0</td>\n",
              "      <td>spotify:track:6d8A5sAx9TfdeseDvfWNHd</td>\n",
              "      <td>1</td>\n",
              "      <td>124641</td>\n",
              "      <td>0</td>\n",
              "    </tr>\n",
              "    <tr>\n",
              "      <th>1</th>\n",
              "      <td>2</td>\n",
              "      <td>spotify:track:6ToAD7ajJidQTDn72OncDG</td>\n",
              "      <td>1</td>\n",
              "      <td>121855</td>\n",
              "      <td>1</td>\n",
              "    </tr>\n",
              "    <tr>\n",
              "      <th>2</th>\n",
              "      <td>3</td>\n",
              "      <td>spotify:track:1Kzxd1kkjaGX4JZz2CYsXB</td>\n",
              "      <td>1</td>\n",
              "      <td>25395</td>\n",
              "      <td>2</td>\n",
              "    </tr>\n",
              "    <tr>\n",
              "      <th>3</th>\n",
              "      <td>5</td>\n",
              "      <td>spotify:track:6e8Ou0wiqAzIpWb2eSxll8</td>\n",
              "      <td>1</td>\n",
              "      <td>124937</td>\n",
              "      <td>3</td>\n",
              "    </tr>\n",
              "    <tr>\n",
              "      <th>4</th>\n",
              "      <td>7</td>\n",
              "      <td>spotify:track:0UE0RhnRaEYsiYgXpyLoZc</td>\n",
              "      <td>1</td>\n",
              "      <td>9327</td>\n",
              "      <td>4</td>\n",
              "    </tr>\n",
              "    <tr>\n",
              "      <th>...</th>\n",
              "      <td>...</td>\n",
              "      <td>...</td>\n",
              "      <td>...</td>\n",
              "      <td>...</td>\n",
              "      <td>...</td>\n",
              "    </tr>\n",
              "    <tr>\n",
              "      <th>4902</th>\n",
              "      <td>9992</td>\n",
              "      <td>spotify:track:6QgjcU0zLnzq5OrUoSZ3OK</td>\n",
              "      <td>1</td>\n",
              "      <td>120920</td>\n",
              "      <td>4902</td>\n",
              "    </tr>\n",
              "    <tr>\n",
              "      <th>4903</th>\n",
              "      <td>9993</td>\n",
              "      <td>spotify:track:5JBdJ82bsTGX4XHwDeJDHm</td>\n",
              "      <td>1</td>\n",
              "      <td>99919</td>\n",
              "      <td>4903</td>\n",
              "    </tr>\n",
              "    <tr>\n",
              "      <th>4904</th>\n",
              "      <td>9994</td>\n",
              "      <td>spotify:track:1U6riPmEZzICc3NVAlxihh</td>\n",
              "      <td>1</td>\n",
              "      <td>28069</td>\n",
              "      <td>4904</td>\n",
              "    </tr>\n",
              "    <tr>\n",
              "      <th>4905</th>\n",
              "      <td>9996</td>\n",
              "      <td>spotify:track:5APxd9Oameqe2EF2h5lDHI</td>\n",
              "      <td>1</td>\n",
              "      <td>97237</td>\n",
              "      <td>4905</td>\n",
              "    </tr>\n",
              "    <tr>\n",
              "      <th>4906</th>\n",
              "      <td>9999</td>\n",
              "      <td>spotify:track:6CJBd4HsltEeC9TiF3OqUO</td>\n",
              "      <td>1</td>\n",
              "      <td>116589</td>\n",
              "      <td>4906</td>\n",
              "    </tr>\n",
              "  </tbody>\n",
              "</table>\n",
              "<p>4907 rows × 5 columns</p>\n",
              "</div>"
            ],
            "text/plain": [
              "       pid                             track_uri  ...  track_id  playlist_id\n",
              "0        0  spotify:track:6d8A5sAx9TfdeseDvfWNHd  ...    124641            0\n",
              "1        2  spotify:track:6ToAD7ajJidQTDn72OncDG  ...    121855            1\n",
              "2        3  spotify:track:1Kzxd1kkjaGX4JZz2CYsXB  ...     25395            2\n",
              "3        5  spotify:track:6e8Ou0wiqAzIpWb2eSxll8  ...    124937            3\n",
              "4        7  spotify:track:0UE0RhnRaEYsiYgXpyLoZc  ...      9327            4\n",
              "...    ...                                   ...  ...       ...          ...\n",
              "4902  9992  spotify:track:6QgjcU0zLnzq5OrUoSZ3OK  ...    120920         4902\n",
              "4903  9993  spotify:track:5JBdJ82bsTGX4XHwDeJDHm  ...     99919         4903\n",
              "4904  9994  spotify:track:1U6riPmEZzICc3NVAlxihh  ...     28069         4904\n",
              "4905  9996  spotify:track:5APxd9Oameqe2EF2h5lDHI  ...     97237         4905\n",
              "4906  9999  spotify:track:6CJBd4HsltEeC9TiF3OqUO  ...    116589         4906\n",
              "\n",
              "[4907 rows x 5 columns]"
            ]
          },
          "metadata": {
            "tags": []
          },
          "execution_count": 345
        }
      ]
    },
    {
      "cell_type": "code",
      "metadata": {
        "id": "9nN2V-37KVeY"
      },
      "source": [
        "p_ids = test_df.playlist_id.values\n",
        "t_ids = test_df.track_id.values\n",
        "test_len = len(p_ids)"
      ],
      "execution_count": 138,
      "outputs": []
    },
    {
      "cell_type": "code",
      "metadata": {
        "colab": {
          "base_uri": "https://localhost:8080/"
        },
        "id": "Z58iRZQaK9L8",
        "outputId": "f889ed08-4a3e-4f34-8d6f-f04973d73267"
      },
      "source": [
        "test_scores = []\n",
        "for i in tqdm(range(test_len)):\n",
        "  score = model.predict([np.reshape([p_ids[i]], (-1,1)), np.reshape([t_ids[i]], (-1,1))])\n",
        "  test_scores.append(score[0][0])"
      ],
      "execution_count": 160,
      "outputs": [
        {
          "output_type": "stream",
          "text": [
            "100%|██████████| 4907/4907 [02:44<00:00, 29.76it/s]\n"
          ],
          "name": "stderr"
        }
      ]
    },
    {
      "cell_type": "markdown",
      "metadata": {
        "id": "NZN5buZ_QQuu"
      },
      "source": [
        "**Evaluation Metric 1** - The avg. probability of suggesting the randomly selected song from the playlist before training to the user as a recommendation (the random song was the playlist is hidden in training part) :"
      ]
    },
    {
      "cell_type": "code",
      "metadata": {
        "colab": {
          "base_uri": "https://localhost:8080/"
        },
        "id": "5VsfhInhNBKI",
        "outputId": "289111b2-0026-4bc4-f9af-9a6bcaf443c7"
      },
      "source": [
        "print(\"{}%\".format(round(np.array(test_scores).mean()*100,2)))"
      ],
      "execution_count": 324,
      "outputs": [
        {
          "output_type": "stream",
          "text": [
            "82.18%\n"
          ],
          "name": "stdout"
        }
      ]
    },
    {
      "cell_type": "markdown",
      "metadata": {
        "id": "sQMVKgV_chOC"
      },
      "source": [
        "---"
      ]
    },
    {
      "cell_type": "code",
      "metadata": {
        "id": "42h-8DBzYJ2e"
      },
      "source": [
        "def get_negative_samples_test(training_df, all_unique_songs, number_of_neg_sample):\n",
        "\n",
        "  \"\"\"\n",
        "  number_of_neg_sample : number of negative samples will be added for each playlist,\n",
        "                         or assign 'same' to add negative samples as much as number of positive samples for each playlist.\n",
        "  \"\"\"\n",
        "\n",
        "  all_neg_samples_list = []\n",
        "  all_pids = training_df['playlist_id'].unique()\n",
        "\n",
        "  for p_id in tqdm(all_pids, position=0, leave=True):\n",
        "\n",
        "    # tracks in corresponding playlist\n",
        "    tracks_in_playlist = training_df[training_df.playlist_id == p_id].track_id.values\n",
        "\n",
        "    # take the difference between all unique songs and songs in the playlist to get possible neg samples \n",
        "    possible_neg_samples =  np.array(list( set(all_unique_songs) - set(tracks_in_playlist) ))\n",
        "\n",
        "    # get indices of n neg random samples\n",
        "    random_neg_sample_indices = np.random.randint(0, len(possible_neg_samples), size=(number_of_neg_sample,))\n",
        "\n",
        "    # get n neg random samples\n",
        "    neg_samples_for_a_playlist = possible_neg_samples[random_neg_sample_indices]\n",
        "\n",
        "    for a_track in neg_samples_for_a_playlist:\n",
        "      all_neg_samples_list.append([p_id, a_track])\n",
        "\n",
        "  all_neg_samples_df = pd.DataFrame(data = all_neg_samples_list, columns=['playlist_id', 'track_id'])\n",
        "  all_neg_samples_df['interaction'] = 0\n",
        "\n",
        "  return all_neg_samples_df"
      ],
      "execution_count": 216,
      "outputs": []
    },
    {
      "cell_type": "code",
      "metadata": {
        "id": "FlQieASsasuv"
      },
      "source": [
        "train_test_df = pd.concat([training_df, test_df])\n",
        "train_test_df = train_test_df[train_test_df.interaction == 1]\n",
        "train_test_df.sort_values('pid', inplace=True)\n",
        "train_test_df.reset_index(drop=True, inplace=True)"
      ],
      "execution_count": 201,
      "outputs": []
    },
    {
      "cell_type": "code",
      "metadata": {
        "colab": {
          "base_uri": "https://localhost:8080/",
          "height": 419
        },
        "id": "yCBht7IxbMRE",
        "outputId": "816dfb5e-9dfe-4567-cbd6-ff3075b02634"
      },
      "source": [
        "train_test_df"
      ],
      "execution_count": 207,
      "outputs": [
        {
          "output_type": "execute_result",
          "data": {
            "text/html": [
              "<div>\n",
              "<style scoped>\n",
              "    .dataframe tbody tr th:only-of-type {\n",
              "        vertical-align: middle;\n",
              "    }\n",
              "\n",
              "    .dataframe tbody tr th {\n",
              "        vertical-align: top;\n",
              "    }\n",
              "\n",
              "    .dataframe thead th {\n",
              "        text-align: right;\n",
              "    }\n",
              "</style>\n",
              "<table border=\"1\" class=\"dataframe\">\n",
              "  <thead>\n",
              "    <tr style=\"text-align: right;\">\n",
              "      <th></th>\n",
              "      <th>pid</th>\n",
              "      <th>track_uri</th>\n",
              "      <th>interaction</th>\n",
              "      <th>track_id</th>\n",
              "      <th>playlist_id</th>\n",
              "    </tr>\n",
              "  </thead>\n",
              "  <tbody>\n",
              "    <tr>\n",
              "      <th>0</th>\n",
              "      <td>0</td>\n",
              "      <td>spotify:track:0UaMYEvWZi0ZqiDOoHU3YI</td>\n",
              "      <td>1</td>\n",
              "      <td>9427</td>\n",
              "      <td>0</td>\n",
              "    </tr>\n",
              "    <tr>\n",
              "      <th>1</th>\n",
              "      <td>0</td>\n",
              "      <td>spotify:track:34ceTg8ChN5HjrqiIYCn9Q</td>\n",
              "      <td>1</td>\n",
              "      <td>57885</td>\n",
              "      <td>0</td>\n",
              "    </tr>\n",
              "    <tr>\n",
              "      <th>2</th>\n",
              "      <td>0</td>\n",
              "      <td>spotify:track:5Q0Nhxo0l2bP3pNjpGJwV1</td>\n",
              "      <td>1</td>\n",
              "      <td>101985</td>\n",
              "      <td>0</td>\n",
              "    </tr>\n",
              "    <tr>\n",
              "      <th>3</th>\n",
              "      <td>0</td>\n",
              "      <td>spotify:track:6GIrIt2M39wEGwjCQjGChX</td>\n",
              "      <td>1</td>\n",
              "      <td>117795</td>\n",
              "      <td>0</td>\n",
              "    </tr>\n",
              "    <tr>\n",
              "      <th>4</th>\n",
              "      <td>0</td>\n",
              "      <td>spotify:track:4E5P1XyAFtrjpiIxkydly4</td>\n",
              "      <td>1</td>\n",
              "      <td>79573</td>\n",
              "      <td>0</td>\n",
              "    </tr>\n",
              "    <tr>\n",
              "      <th>...</th>\n",
              "      <td>...</td>\n",
              "      <td>...</td>\n",
              "      <td>...</td>\n",
              "      <td>...</td>\n",
              "      <td>...</td>\n",
              "    </tr>\n",
              "    <tr>\n",
              "      <th>526060</th>\n",
              "      <td>9999</td>\n",
              "      <td>spotify:track:5S5rw0WLVCAux5B5bWCehK</td>\n",
              "      <td>1</td>\n",
              "      <td>102630</td>\n",
              "      <td>4906</td>\n",
              "    </tr>\n",
              "    <tr>\n",
              "      <th>526061</th>\n",
              "      <td>9999</td>\n",
              "      <td>spotify:track:5y2pNuAvWcPKiORZ12e44S</td>\n",
              "      <td>1</td>\n",
              "      <td>112220</td>\n",
              "      <td>4906</td>\n",
              "    </tr>\n",
              "    <tr>\n",
              "      <th>526062</th>\n",
              "      <td>9999</td>\n",
              "      <td>spotify:track:2D2tn77f5ZrADmf8h4zR3t</td>\n",
              "      <td>1</td>\n",
              "      <td>41571</td>\n",
              "      <td>4906</td>\n",
              "    </tr>\n",
              "    <tr>\n",
              "      <th>526063</th>\n",
              "      <td>9999</td>\n",
              "      <td>spotify:track:0spUlzosnRQfp22j4wtHa6</td>\n",
              "      <td>1</td>\n",
              "      <td>16702</td>\n",
              "      <td>4906</td>\n",
              "    </tr>\n",
              "    <tr>\n",
              "      <th>526064</th>\n",
              "      <td>9999</td>\n",
              "      <td>spotify:track:6CJBd4HsltEeC9TiF3OqUO</td>\n",
              "      <td>1</td>\n",
              "      <td>116589</td>\n",
              "      <td>4906</td>\n",
              "    </tr>\n",
              "  </tbody>\n",
              "</table>\n",
              "<p>526065 rows × 5 columns</p>\n",
              "</div>"
            ],
            "text/plain": [
              "         pid                             track_uri  ...  track_id  playlist_id\n",
              "0          0  spotify:track:0UaMYEvWZi0ZqiDOoHU3YI  ...      9427            0\n",
              "1          0  spotify:track:34ceTg8ChN5HjrqiIYCn9Q  ...     57885            0\n",
              "2          0  spotify:track:5Q0Nhxo0l2bP3pNjpGJwV1  ...    101985            0\n",
              "3          0  spotify:track:6GIrIt2M39wEGwjCQjGChX  ...    117795            0\n",
              "4          0  spotify:track:4E5P1XyAFtrjpiIxkydly4  ...     79573            0\n",
              "...      ...                                   ...  ...       ...          ...\n",
              "526060  9999  spotify:track:5S5rw0WLVCAux5B5bWCehK  ...    102630         4906\n",
              "526061  9999  spotify:track:5y2pNuAvWcPKiORZ12e44S  ...    112220         4906\n",
              "526062  9999  spotify:track:2D2tn77f5ZrADmf8h4zR3t  ...     41571         4906\n",
              "526063  9999  spotify:track:0spUlzosnRQfp22j4wtHa6  ...     16702         4906\n",
              "526064  9999  spotify:track:6CJBd4HsltEeC9TiF3OqUO  ...    116589         4906\n",
              "\n",
              "[526065 rows x 5 columns]"
            ]
          },
          "metadata": {
            "tags": []
          },
          "execution_count": 207
        }
      ]
    },
    {
      "cell_type": "code",
      "metadata": {
        "colab": {
          "base_uri": "https://localhost:8080/"
        },
        "id": "c2s5fGA9bMVp",
        "outputId": "014cd37b-8fbc-4044-b03e-5ef48ca1cf9d"
      },
      "source": [
        "all_unique_track_ids = train_test_df.track_id.unique()\n",
        "neg_samples_for_test = get_negative_samples_test(train_test_df, all_unique_track_ids, number_of_neg_sample=99)"
      ],
      "execution_count": 217,
      "outputs": [
        {
          "output_type": "stream",
          "text": [
            "100%|██████████| 4907/4907 [03:46<00:00, 21.66it/s]\n"
          ],
          "name": "stderr"
        }
      ]
    },
    {
      "cell_type": "code",
      "metadata": {
        "id": "yhEUhtgFhPTW"
      },
      "source": [
        "test_df_2 = pd.concat([neg_samples_for_test, test_df[['playlist_id', 'track_id', 'interaction']]])\n",
        "test_df_2.sort_values(['playlist_id', 'interaction'], ascending=[True, False], inplace=True)\n",
        "test_df_2.reset_index(drop=True, inplace=True)"
      ],
      "execution_count": 224,
      "outputs": []
    },
    {
      "cell_type": "code",
      "metadata": {
        "colab": {
          "base_uri": "https://localhost:8080/",
          "height": 419
        },
        "id": "iW-1O2COhpC1",
        "outputId": "4f815da9-6b3b-4e2c-a012-a0e92406f9e5"
      },
      "source": [
        "test_df_2"
      ],
      "execution_count": 227,
      "outputs": [
        {
          "output_type": "execute_result",
          "data": {
            "text/html": [
              "<div>\n",
              "<style scoped>\n",
              "    .dataframe tbody tr th:only-of-type {\n",
              "        vertical-align: middle;\n",
              "    }\n",
              "\n",
              "    .dataframe tbody tr th {\n",
              "        vertical-align: top;\n",
              "    }\n",
              "\n",
              "    .dataframe thead th {\n",
              "        text-align: right;\n",
              "    }\n",
              "</style>\n",
              "<table border=\"1\" class=\"dataframe\">\n",
              "  <thead>\n",
              "    <tr style=\"text-align: right;\">\n",
              "      <th></th>\n",
              "      <th>playlist_id</th>\n",
              "      <th>track_id</th>\n",
              "      <th>interaction</th>\n",
              "    </tr>\n",
              "  </thead>\n",
              "  <tbody>\n",
              "    <tr>\n",
              "      <th>0</th>\n",
              "      <td>0</td>\n",
              "      <td>124641</td>\n",
              "      <td>1</td>\n",
              "    </tr>\n",
              "    <tr>\n",
              "      <th>1</th>\n",
              "      <td>0</td>\n",
              "      <td>104064</td>\n",
              "      <td>0</td>\n",
              "    </tr>\n",
              "    <tr>\n",
              "      <th>2</th>\n",
              "      <td>0</td>\n",
              "      <td>106544</td>\n",
              "      <td>0</td>\n",
              "    </tr>\n",
              "    <tr>\n",
              "      <th>3</th>\n",
              "      <td>0</td>\n",
              "      <td>13030</td>\n",
              "      <td>0</td>\n",
              "    </tr>\n",
              "    <tr>\n",
              "      <th>4</th>\n",
              "      <td>0</td>\n",
              "      <td>108178</td>\n",
              "      <td>0</td>\n",
              "    </tr>\n",
              "    <tr>\n",
              "      <th>...</th>\n",
              "      <td>...</td>\n",
              "      <td>...</td>\n",
              "      <td>...</td>\n",
              "    </tr>\n",
              "    <tr>\n",
              "      <th>490695</th>\n",
              "      <td>4906</td>\n",
              "      <td>108344</td>\n",
              "      <td>0</td>\n",
              "    </tr>\n",
              "    <tr>\n",
              "      <th>490696</th>\n",
              "      <td>4906</td>\n",
              "      <td>123451</td>\n",
              "      <td>0</td>\n",
              "    </tr>\n",
              "    <tr>\n",
              "      <th>490697</th>\n",
              "      <td>4906</td>\n",
              "      <td>121440</td>\n",
              "      <td>0</td>\n",
              "    </tr>\n",
              "    <tr>\n",
              "      <th>490698</th>\n",
              "      <td>4906</td>\n",
              "      <td>91521</td>\n",
              "      <td>0</td>\n",
              "    </tr>\n",
              "    <tr>\n",
              "      <th>490699</th>\n",
              "      <td>4906</td>\n",
              "      <td>18863</td>\n",
              "      <td>0</td>\n",
              "    </tr>\n",
              "  </tbody>\n",
              "</table>\n",
              "<p>490700 rows × 3 columns</p>\n",
              "</div>"
            ],
            "text/plain": [
              "        playlist_id  track_id  interaction\n",
              "0                 0    124641            1\n",
              "1                 0    104064            0\n",
              "2                 0    106544            0\n",
              "3                 0     13030            0\n",
              "4                 0    108178            0\n",
              "...             ...       ...          ...\n",
              "490695         4906    108344            0\n",
              "490696         4906    123451            0\n",
              "490697         4906    121440            0\n",
              "490698         4906     91521            0\n",
              "490699         4906     18863            0\n",
              "\n",
              "[490700 rows x 3 columns]"
            ]
          },
          "metadata": {
            "tags": []
          },
          "execution_count": 227
        }
      ]
    },
    {
      "cell_type": "code",
      "metadata": {
        "colab": {
          "base_uri": "https://localhost:8080/"
        },
        "id": "cdS2ZzzthqEC",
        "outputId": "816187b0-809f-4859-fe85-0631e0f41ab4"
      },
      "source": [
        "all_scores = []\n",
        "\n",
        "unique_pid_list = test_df_2.playlist_id.unique()\n",
        "for pid in tqdm(range(len(unique_pid_list)),position=0, leave=True):\n",
        "\n",
        "  pid_scores = []\n",
        "  track_ids = test_df_2[test_df_2.playlist_id == pid].track_id.values\n",
        "  \n",
        "  for tid in range(len(track_ids)):\n",
        "\n",
        "      score = model.predict([np.reshape([pid], (-1,1)), np.reshape([track_ids[tid]], (-1,1))])\n",
        "      pid_scores.append(score[0][0])\n",
        "    \n",
        "  all_scores.append(pid_scores)"
      ],
      "execution_count": 280,
      "outputs": [
        {
          "output_type": "stream",
          "text": [
            "100%|██████████| 4907/4907 [4:21:15<00:00,  3.19s/it]\n"
          ],
          "name": "stderr"
        }
      ]
    },
    {
      "cell_type": "code",
      "metadata": {
        "id": "qAFU6GJFk5_e"
      },
      "source": [
        "np.savetxt('all_scores.txt', all_scores)"
      ],
      "execution_count": 284,
      "outputs": []
    },
    {
      "cell_type": "code",
      "metadata": {
        "id": "Pq8yaZ6Nk6Bm"
      },
      "source": [
        "#to load back\n",
        "all_scores_loaded = np.loadtxt('all_scores.txt')"
      ],
      "execution_count": 285,
      "outputs": []
    },
    {
      "cell_type": "code",
      "metadata": {
        "id": "IFMsV7LglxHB"
      },
      "source": [
        "uniuqe_pid_list = test_df_2.playlist_id.unique()\n",
        "\n",
        "test_click_ranks = []\n",
        "\n",
        "for pid in tqdm(range(len(unique_pid_list)),position=0, leave=True):\n",
        "  pid_df = test_df_2[test_df_2.playlist_id == pid]\n",
        "  pid_df['pred_scores'] = all_scores_loaded[pid,:]\n",
        "  pid_df.sort_values('pred_scores', ascending=False, inplace=True)\n",
        "  pid_df.reset_index(drop=True, inplace=True)\n",
        "  test_click_ranks.append(pid_df[pid_df.interaction==1].index.values[0])"
      ],
      "execution_count": null,
      "outputs": []
    },
    {
      "cell_type": "code",
      "metadata": {
        "id": "43vh73syl0Z2"
      },
      "source": [
        "test_click_ranks = np.array(test_click_ranks)"
      ],
      "execution_count": 310,
      "outputs": []
    },
    {
      "cell_type": "markdown",
      "metadata": {
        "id": "LhLyQUqtpGC8"
      },
      "source": [
        "**Evaluation Metric 2** - Avg. number of click:"
      ]
    },
    {
      "cell_type": "code",
      "metadata": {
        "colab": {
          "base_uri": "https://localhost:8080/"
        },
        "id": "H2vrDtNTpBBj",
        "outputId": "c5457dd4-d281-41c4-f586-61b4ff636466"
      },
      "source": [
        "test_click_ranks.mean()"
      ],
      "execution_count": 313,
      "outputs": [
        {
          "output_type": "execute_result",
          "data": {
            "text/plain": [
              "22.577542286529447"
            ]
          },
          "metadata": {
            "tags": []
          },
          "execution_count": 313
        }
      ]
    },
    {
      "cell_type": "markdown",
      "metadata": {
        "id": "4ONkDBRCpamh"
      },
      "source": [
        "**Evaluation Metric 3** - Top-k (in 100 tracks):\n",
        "\n",
        "\n",
        "We say that we have a **hit**, if the best **k** songs chosen among 100 songs as recommendation for a playlist includes the song that are randomly selected from the playlist before training. And **accuracy score** shows that we have how many 'hit' among all the playlist used in testing."
      ]
    },
    {
      "cell_type": "code",
      "metadata": {
        "id": "hU5LF3PUqq7e"
      },
      "source": [
        "def print_top_k_acc(click_ranks, k):\n",
        "  acc = np.sum(click_ranks < k) / len(click_ranks)\n",
        "  acc = round(acc, 4)\n",
        "  print(\"Top-{} accuracy: {}\".format(k, acc))"
      ],
      "execution_count": 337,
      "outputs": []
    },
    {
      "cell_type": "code",
      "metadata": {
        "colab": {
          "base_uri": "https://localhost:8080/"
        },
        "id": "i4MocE4gnT_u",
        "outputId": "b655d2ce-3e7f-4a2b-e00e-4d706e1792ee"
      },
      "source": [
        "print_top_k_acc(test_click_ranks,1)\n",
        "print_top_k_acc(test_click_ranks,2)\n",
        "print_top_k_acc(test_click_ranks,5)\n",
        "print_top_k_acc(test_click_ranks,10)\n",
        "print_top_k_acc(test_click_ranks,20)\n"
      ],
      "execution_count": 343,
      "outputs": [
        {
          "output_type": "stream",
          "text": [
            "Top-1 accuracy: 0.2653\n",
            "Top-2 accuracy: 0.3668\n",
            "Top-5 accuracy: 0.4981\n",
            "Top-10 accuracy: 0.581\n",
            "Top-20 accuracy: 0.6527\n"
          ],
          "name": "stdout"
        }
      ]
    }
  ]
}